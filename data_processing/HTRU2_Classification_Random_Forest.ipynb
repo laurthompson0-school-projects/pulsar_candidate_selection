{
 "cells": [
  {
   "cell_type": "markdown",
   "metadata": {},
   "source": [
    "Based on examples found in\n",
    "https://towardsdatascience.com/random-forest-in-python-24d0893d51c0"
   ]
  },
  {
   "cell_type": "code",
   "execution_count": 1,
   "metadata": {},
   "outputs": [],
   "source": [
    "import numpy as np\n",
    "import os\n",
    "import math\n",
    "import warnings\n",
    "warnings.filterwarnings('ignore')\n",
    "from timeit import default_timer as timer\n",
    "\n",
    "from sklearn import metrics, model_selection, preprocessing \n",
    "from sklearn.decomposition import PCA\n",
    "import matplotlib.pyplot as plt\n",
    "%matplotlib inline\n",
    "import pandas as pd\n",
    "from itertools import cycle, islice\n",
    "\n",
    "import seaborn as sns\n",
    "import plotly as py\n",
    "import plotly.express as px\n",
    "import plotly.graph_objs as go\n",
    "from plotly.offline import download_plotlyjs, init_notebook_mode, plot, iplot\n",
    "from xgboost import XGBClassifier\n",
    "\n",
    "from sklearn.ensemble import RandomForestClassifier"
   ]
  },
  {
   "cell_type": "code",
   "execution_count": 2,
   "metadata": {},
   "outputs": [],
   "source": [
    " path = \"../data\"\n",
    "\n",
    "pulsar_data = pd.read_csv(path + \"/input/HTRU2/HTRU_2.csv\", \n",
    "                          low_memory=False, index_col=False, header=0, \n",
    "                          names=[\"mean_IP\", \"standDev_IP\", \"excessKurt_IP\", \"skewness_IP\", \n",
    "                                 \"mean_DMSNR\", \"standDev_DMSNR\", \"excessKurt_DMSNR\", \"skewness_DMSNR\", \"pulsar\"])\n",
    "\n",
    "features= pulsar_data.drop('pulsar', axis = 1)\n",
    "feature_list = list(features.columns)\n",
    "\n",
    "# print(pulsar_data.head())"
   ]
  },
  {
   "cell_type": "code",
   "execution_count": 3,
   "metadata": {},
   "outputs": [],
   "source": [
    " confirmed_pulsar = pulsar_data[pulsar_data['pulsar'] == 1]\n",
    "confirmed_noise = pulsar_data[pulsar_data['pulsar'] == 0]\n",
    "\n",
    "# print(confirmed_pulsar.head())\n",
    "# print(confirmed_noise.head()) "
   ]
  },
  {
   "cell_type": "code",
   "execution_count": 4,
   "metadata": {},
   "outputs": [],
   "source": [
    "positive_train_paper_split = confirmed_pulsar.iloc[:200]\n",
    "negative_train_paper_split = confirmed_noise.iloc[:200]\n",
    "positive_test_paper_split = confirmed_pulsar.iloc[200:]\n",
    "negative_test_paper_split = confirmed_noise.iloc[200:]\n",
    "\n",
    "train_paper_split = pd.concat([positive_train_paper_split, negative_train_paper_split],\n",
    "                               ignore_index=True, sort=False)\n",
    "test_paper_split = pd.concat([positive_test_paper_split, negative_test_paper_split],\n",
    "                               ignore_index=True, sort=False)\n",
    "\n",
    "train_paper_split = train_paper_split.sample(frac=1).reset_index(drop=True)\n",
    "test_paper_split = test_paper_split.sample(frac=1).reset_index(drop=True)\n",
    "\n",
    "X_train_paper_split = train_paper_split.iloc[:, :8]\n",
    "X_test_paper_split = test_paper_split.iloc[:, :8]\n",
    "y_train_paper_split = train_paper_split.iloc[:, 8]\n",
    "y_test_paper_split = test_paper_split.iloc[:, 8]\n",
    "\n",
    "# print(X_train_paper_split.shape)\n",
    "# print(X_train_paper_split.head())\n",
    "# print(X_test_paper_split.shape)\n",
    "# print(X_test_paper_split.head())\n",
    "# print(y_train_paper_split.shape)\n",
    "# print(y_train_paper_split.head())\n",
    "# print(y_test_paper_split.shape)\n",
    "# print(y_test_paper_split.head())"
   ]
  },
  {
   "cell_type": "code",
   "execution_count": 5,
   "metadata": {},
   "outputs": [],
   "source": [
    " X, y = pulsar_data.iloc[:, :8], pulsar_data.iloc[:, 8]\n",
    "\n",
    "# print(X.head())\n",
    "# print(y.head())"
   ]
  },
  {
   "cell_type": "code",
   "execution_count": 6,
   "metadata": {},
   "outputs": [],
   "source": [
    "X_train_3fold, X_test_3fold, y_train_3fold, y_test_3fold = model_selection.train_test_split(X, y, test_size=0.33, random_state=42, stratify=y)"
   ]
  },
  {
   "cell_type": "code",
   "execution_count": 7,
   "metadata": {},
   "outputs": [],
   "source": [
    "X_train_5fold, X_test_5fold, y_train_5fold, y_test_5fold = model_selection.train_test_split(X, y, test_size=0.2, \n",
    "                                                                            random_state=42, stratify=y)"
   ]
  },
  {
   "cell_type": "code",
   "execution_count": 8,
   "metadata": {},
   "outputs": [],
   "source": [
    "X_train_10fold, X_test_10fold, y_train_10fold, y_test_10fold = model_selection.train_test_split(X, y, test_size=0.1, \n",
    "                                                                            random_state=42, stratify=y)"
   ]
  },
  {
   "cell_type": "markdown",
   "metadata": {},
   "source": [
    "Paper Split"
   ]
  },
  {
   "cell_type": "code",
   "execution_count": 9,
   "metadata": {},
   "outputs": [
    {
     "name": "stdout",
     "output_type": "stream",
     "text": [
      "Fitting 2 folds for each of 144 candidates, totalling 288 fits\n",
      "5.258724972999971\n"
     ]
    }
   ],
   "source": [
    "params = {\n",
    "        'n_estimators': [10, 100, 200],\n",
    "        'max_depth': [5, 10, 15],\n",
    "        'min_samples_split': [2, 5, 10, 15],\n",
    "        'min_samples_leaf': [1, 2, 4, 8],\n",
    "        }\n",
    "\n",
    "skf =  model_selection.StratifiedKFold(n_splits=2, shuffle = True, random_state=42)\n",
    "\n",
    "rf = RandomForestClassifier()\n",
    "\n",
    "grid =  model_selection.GridSearchCV(estimator=rf, param_grid=params, scoring='f1', n_jobs=-1, \n",
    "                                     cv=skf.split(X_train_paper_split, y_train_paper_split), \n",
    "                                     verbose=3)\n",
    "\n",
    "startTrain = timer()\n",
    "model_ps = grid.fit(X_train_paper_split, y_train_paper_split)\n",
    "endTrain = timer()\n",
    "\n",
    "print(endTrain -  startTrain)"
   ]
  },
  {
   "cell_type": "code",
   "execution_count": 10,
   "metadata": {},
   "outputs": [
    {
     "name": "stdout",
     "output_type": "stream",
     "text": [
      "Accuracy: 92.94%\n"
     ]
    }
   ],
   "source": [
    "y_pred_ps = model_ps.predict(X_test_paper_split)\n",
    "predictions_ps = [round(value) for value in y_pred_ps]\n",
    "\n",
    "accuracy = metrics.accuracy_score(y_test_paper_split, predictions_ps)\n",
    "print(\"Accuracy: %.2f%%\" % (accuracy * 100.0))"
   ]
  },
  {
   "cell_type": "code",
   "execution_count": 11,
   "metadata": {},
   "outputs": [
    {
     "name": "stdout",
     "output_type": "stream",
     "text": [
      "Random Forest Confusion matrix: Paper Split\n",
      "[[14922  1136]\n",
      " [  100  1339]]\n"
     ]
    },
    {
     "data": {
      "image/png": "[encoded data removed]",
      "text/plain": [
       "<Figure size 720x720 with 2 Axes>"
      ]
     },
     "metadata": {
      "needs_background": "light"
     },
     "output_type": "display_data"
    }
   ],
   "source": [
    "plt.rcParams['figure.figsize'] = [10, 10]\n",
    "disp = metrics.plot_confusion_matrix(model_ps, X_test_paper_split, \n",
    "                                     y_test_paper_split, cmap=plt.cm.Blues)\n",
    "title = \"Random Forest Confusion matrix: Paper Split\"\n",
    "disp.ax_.set_title(title)\n",
    "\n",
    "TP = disp.confusion_matrix[0][0]\n",
    "FP = disp.confusion_matrix[0][1]\n",
    "FN = disp.confusion_matrix[1][0]\n",
    "TN = disp.confusion_matrix[1][1]\n",
    "conf_matrix_ps = {'TP': TP, 'FP': FP, 'FN': FN, 'TN': TN, }\n",
    "\n",
    "print(title)\n",
    "print(disp.confusion_matrix)\n",
    "\n",
    "plt.savefig(path + '/output/rf_paper_split_conf_mat.png', bbox_inches='tight')\n",
    "plt.show()\n"
   ]
  },
  {
   "cell_type": "markdown",
   "metadata": {},
   "source": [
    "3-Fold"
   ]
  },
  {
   "cell_type": "code",
   "execution_count": 12,
   "metadata": {},
   "outputs": [
    {
     "name": "stdout",
     "output_type": "stream",
     "text": [
      "Fitting 3 folds for each of 144 candidates, totalling 432 fits\n",
      "42.20994265499996\n"
     ]
    }
   ],
   "source": [
    "positive_weight = 16258/1639 # recommended method for findinng positve weight for imbalanced data\n",
    "\n",
    "params = {\n",
    "        'n_estimators': [10, 100, 200],\n",
    "        'max_depth': [5, 10, 15],\n",
    "        'min_samples_split': [2, 5, 10, 15],\n",
    "        'min_samples_leaf': [1, 2, 4, 8],\n",
    "        }\n",
    "\n",
    "skf =  model_selection.StratifiedKFold(n_splits=3, shuffle = True, random_state = 42)\n",
    "\n",
    "rf = RandomForestClassifier()\n",
    "\n",
    "grid =  model_selection.GridSearchCV(estimator=rf, param_grid=params, scoring='f1', n_jobs=-1, cv=skf.split(X_train_3fold, y_train_3fold), verbose=3)\n",
    "\n",
    "startTrain = timer()\n",
    "model_3f = grid.fit(X_train_3fold, y_train_3fold)\n",
    "endTrain = timer()\n",
    "\n",
    "print(endTrain -  startTrain)"
   ]
  },
  {
   "cell_type": "code",
   "execution_count": 13,
   "metadata": {
    "scrolled": true
   },
   "outputs": [],
   "source": [
    "# print(grid.best_params_)"
   ]
  },
  {
   "cell_type": "code",
   "execution_count": 14,
   "metadata": {},
   "outputs": [],
   "source": [
    "# print(grid.best_estimator_) "
   ]
  },
  {
   "cell_type": "code",
   "execution_count": 15,
   "metadata": {
    "scrolled": true
   },
   "outputs": [],
   "source": [
    "y_pred_3f = model_3f.predict(X_test_3fold)\n",
    "predictions3 = [round(value) for value in y_pred_3f]\n",
    "\n",
    "# accuracy = metrics.accuracy_score(y_test_3fold, predictions3)\n",
    "# print(\"Accuracy: %.2f%%\" % (accuracy * 100.0))"
   ]
  },
  {
   "cell_type": "code",
   "execution_count": 16,
   "metadata": {},
   "outputs": [],
   "source": [
    "auc = metrics.roc_auc_score(y_test_3fold, predictions3)\n",
    "# print(\"auc: %.2f%%\" % (auc * 100.0))"
   ]
  },
  {
   "cell_type": "code",
   "execution_count": 17,
   "metadata": {
    "scrolled": true
   },
   "outputs": [
    {
     "name": "stdout",
     "output_type": "stream",
     "text": [
      "Random Forest Confusion matrix: 3 Fold CV\n",
      "[[5323   43]\n",
      " [  76  465]]\n"
     ]
    },
    {
     "data": {
      "image/png": "[encoded data removed]",
      "text/plain": [
       "<Figure size 720x720 with 2 Axes>"
      ]
     },
     "metadata": {
      "needs_background": "light"
     },
     "output_type": "display_data"
    }
   ],
   "source": [
    "plt.rcParams['figure.figsize'] = [10, 10]\n",
    "disp = metrics.plot_confusion_matrix(model_3f, X_test_3fold, y_test_3fold,\n",
    "                                 cmap=plt.cm.Blues)\n",
    "title = \"Random Forest Confusion matrix: 3 Fold CV\"\n",
    "disp.ax_.set_title(title)\n",
    "\n",
    "TP = disp.confusion_matrix[0][0]\n",
    "FP = disp.confusion_matrix[0][1]\n",
    "FN = disp.confusion_matrix[1][0]\n",
    "TN = disp.confusion_matrix[1][1]\n",
    "conf_matrix_3f = {'TP': TP, 'FP': FP, 'FN': FN, 'TN': TN, }\n",
    "\n",
    "print(title)\n",
    "print(disp.confusion_matrix)\n",
    "\n",
    "plt.savefig(path + '/output/rf_3_fold_conf_mat.png', bbox_inches='tight')\n",
    "plt.show()"
   ]
  },
  {
   "cell_type": "markdown",
   "metadata": {},
   "source": [
    "5 Fold"
   ]
  },
  {
   "cell_type": "code",
   "execution_count": 18,
   "metadata": {},
   "outputs": [
    {
     "name": "stdout",
     "output_type": "stream",
     "text": [
      "Fitting 5 folds for each of 144 candidates, totalling 720 fits\n",
      "100.73994325499996\n"
     ]
    }
   ],
   "source": [
    "params = {\n",
    "        'n_estimators': [10, 100, 200],\n",
    "        'max_depth': [5, 10, 15],\n",
    "        'min_samples_split': [2, 5, 10, 15],\n",
    "        'min_samples_leaf': [1, 2, 4, 8],\n",
    "        }\n",
    "\n",
    "skf =  model_selection.StratifiedKFold(n_splits=5, shuffle = True, random_state = 42)\n",
    "\n",
    "rf = RandomForestClassifier()\n",
    "\n",
    "grid =  model_selection.GridSearchCV(estimator=rf, param_grid=params, scoring='f1', n_jobs=-1, cv=skf.split(X_train_5fold, y_train_5fold), verbose=3)\n",
    "\n",
    "startTrain = timer()\n",
    "model_5f = grid.fit(X_train_5fold, y_train_5fold)\n",
    "endTrain = timer()\n",
    "\n",
    "print(endTrain -  startTrain)"
   ]
  },
  {
   "cell_type": "code",
   "execution_count": 19,
   "metadata": {},
   "outputs": [
    {
     "name": "stdout",
     "output_type": "stream",
     "text": [
      "{'max_depth': 15, 'min_samples_leaf': 1, 'min_samples_split': 15, 'n_estimators': 200}\n"
     ]
    }
   ],
   "source": [
    "print(grid.best_params_)"
   ]
  },
  {
   "cell_type": "code",
   "execution_count": 20,
   "metadata": {},
   "outputs": [
    {
     "name": "stdout",
     "output_type": "stream",
     "text": [
      "RandomForestClassifier(max_depth=15, min_samples_split=15, n_estimators=200)\n"
     ]
    }
   ],
   "source": [
    "print(grid.best_estimator_)"
   ]
  },
  {
   "cell_type": "code",
   "execution_count": 21,
   "metadata": {},
   "outputs": [
    {
     "name": "stdout",
     "output_type": "stream",
     "text": [
      "Accuracy: 97.91%\n"
     ]
    }
   ],
   "source": [
    "y_pred_5f = model_5f.predict(X_test_5fold)\n",
    "predictions5 = [round(value) for value in y_pred_5f]\n",
    "\n",
    "accuracy = metrics.accuracy_score(y_test_5fold, predictions5)\n",
    "print(\"Accuracy: %.2f%%\" % (accuracy * 100.0))"
   ]
  },
  {
   "cell_type": "code",
   "execution_count": 22,
   "metadata": {},
   "outputs": [
    {
     "name": "stdout",
     "output_type": "stream",
     "text": [
      "auc: 92.54%\n"
     ]
    }
   ],
   "source": [
    "auc = metrics.roc_auc_score(y_test_5fold, predictions5)\n",
    "print(\"auc: %.2f%%\" % (auc * 100.0))"
   ]
  },
  {
   "cell_type": "code",
   "execution_count": 23,
   "metadata": {},
   "outputs": [
    {
     "name": "stdout",
     "output_type": "stream",
     "text": [
      "Random Forest Confusion matrix: 5 Fold CV\n",
      "[[3223   29]\n",
      " [  46  282]]\n"
     ]
    },
    {
     "data": {
      "image/png": "[encoded data removed]",
      "text/plain": [
       "<Figure size 720x720 with 2 Axes>"
      ]
     },
     "metadata": {
      "needs_background": "light"
     },
     "output_type": "display_data"
    }
   ],
   "source": [
    "plt.rcParams['figure.figsize'] = [10, 10]\n",
    "disp = metrics.plot_confusion_matrix(model_5f, X_test_5fold, y_test_5fold,\n",
    "                                 cmap=plt.cm.Blues)\n",
    "title = \"Random Forest Confusion matrix: 5 Fold CV\"\n",
    "disp.ax_.set_title(title)\n",
    "\n",
    "TP = disp.confusion_matrix[0][0]\n",
    "FP = disp.confusion_matrix[0][1]\n",
    "FN = disp.confusion_matrix[1][0]\n",
    "TN = disp.confusion_matrix[1][1]\n",
    "conf_matrix_5f = {'TP': TP, 'FP': FP, 'FN': FN, 'TN': TN, }\n",
    "\n",
    "print(title)\n",
    "print(disp.confusion_matrix)\n",
    "\n",
    "plt.savefig(path + '/output/rf_5_fold_conf_mat.png', bbox_inches='tight')\n",
    "plt.show()"
   ]
  },
  {
   "cell_type": "markdown",
   "metadata": {},
   "source": [
    "10 Fold"
   ]
  },
  {
   "cell_type": "code",
   "execution_count": 24,
   "metadata": {},
   "outputs": [
    {
     "name": "stdout",
     "output_type": "stream",
     "text": [
      "Fitting 10 folds for each of 144 candidates, totalling 1440 fits\n",
      "251.47213206499998\n"
     ]
    }
   ],
   "source": [
    "params = {\n",
    "        'n_estimators': [10, 100, 200],\n",
    "        'max_depth': [5, 10, 15],\n",
    "        'min_samples_split': [2, 5, 10, 15],\n",
    "        'min_samples_leaf': [1, 2, 4, 8],\n",
    "        }\n",
    "\n",
    "skf =  model_selection.StratifiedKFold(n_splits=10, shuffle = True, random_state = 42)\n",
    "\n",
    "rf = RandomForestClassifier()\n",
    "\n",
    "grid =  model_selection.GridSearchCV(estimator=rf, param_grid=params, scoring='f1', n_jobs=-1, cv=skf.split(X_train_10fold, y_train_10fold), verbose=3)\n",
    "\n",
    "startTrain = timer()\n",
    "model_10f = grid.fit(X_train_10fold, y_train_10fold)\n",
    "endTrain = timer()\n",
    "\n",
    "print(endTrain -  startTrain)"
   ]
  },
  {
   "cell_type": "code",
   "execution_count": 25,
   "metadata": {},
   "outputs": [],
   "source": [
    "y_pred_10f = model_10f.predict(X_test_10fold)\n",
    "predictions10 = [round(value) for value in y_pred_10f]"
   ]
  },
  {
   "cell_type": "code",
   "execution_count": 26,
   "metadata": {},
   "outputs": [
    {
     "name": "stdout",
     "output_type": "stream",
     "text": [
      "Random Forest Confusion matrix: 10 Fold CV\n",
      "[[1609   17]\n",
      " [  24  140]]\n"
     ]
    },
    {
     "data": {
      "image/png": "[encoded data removed]",
      "text/plain": [
       "<Figure size 720x720 with 2 Axes>"
      ]
     },
     "metadata": {
      "needs_background": "light"
     },
     "output_type": "display_data"
    }
   ],
   "source": [
    "plt.rcParams['figure.figsize'] = [10, 10]\n",
    "disp = metrics.plot_confusion_matrix(model_10f, X_test_10fold, y_test_10fold,\n",
    "                                 cmap=plt.cm.Blues)\n",
    "title = \"Random Forest Confusion matrix: 10 Fold CV\"\n",
    "disp.ax_.set_title(title)\n",
    "\n",
    "TP = disp.confusion_matrix[0][0]\n",
    "FP = disp.confusion_matrix[0][1]\n",
    "FN = disp.confusion_matrix[1][0]\n",
    "TN = disp.confusion_matrix[1][1]\n",
    "conf_matrix_10f = {'TP': TP, 'FP': FP, 'FN': FN, 'TN': TN, }\n",
    "\n",
    "print(title)\n",
    "print(disp.confusion_matrix)\n",
    "\n",
    "plt.savefig(path + '/output/rf_10_fold_conf_mat.png', bbox_inches='tight')\n",
    "plt.show()"
   ]
  },
  {
   "cell_type": "markdown",
   "metadata": {},
   "source": [
    "Output to CSV"
   ]
  },
  {
   "cell_type": "code",
   "execution_count": 27,
   "metadata": {},
   "outputs": [],
   "source": [
    "# Paper Split - conf_matrix_ps\n",
    "ps_fscore = metrics.f1_score(y_test_paper_split, predictions_ps)\n",
    "ps_recall = metrics.recall_score(y_test_paper_split, predictions_ps)\n",
    "ps_precision = metrics.precision_score(y_test_paper_split, predictions_ps)\n",
    "ps_specificity = conf_matrix_ps['TN']/(conf_matrix_ps['TN']+conf_matrix_ps['FP'])\n",
    "ps_fpr = conf_matrix_ps['FP']/(conf_matrix_ps['FP']+conf_matrix_ps['TN'])\n",
    "ps_accuracy = metrics.accuracy_score(y_test_paper_split, predictions_ps)\n",
    "ps_gmean = math.sqrt(ps_precision*ps_recall)\n",
    "\n",
    "ps_dict = {'data_set' : 'HTRU 2', 'Algorithm' : 'Random Forest', \n",
    "           'G-Mean' : [ps_gmean], 'fscore' : [ps_fscore], 'recall' : [ps_recall], \n",
    "           'precision' : [ps_precision], 'specificity' : [ps_specificity], \n",
    "           'fpr' : [ps_fpr], 'accuracy' : [ps_accuracy]}\n",
    "\n",
    "ps_df = pd.DataFrame(data=ps_dict)\n",
    "ps_df.to_csv(path + '/output/rf_paper_split_metrics.csv', index = False, header=True)\n",
    "\n",
    "# 3 Fold - conf_matrix_3f\n",
    "f3_fscore = metrics.f1_score(y_test_3fold, predictions3)\n",
    "f3_recall = metrics.recall_score(y_test_3fold, predictions3)\n",
    "f3_precision = metrics.precision_score(y_test_3fold, predictions3)\n",
    "f3_specificity = conf_matrix_3f['TN']/(conf_matrix_3f['TN']+conf_matrix_3f['FP'])\n",
    "f3_fpr = conf_matrix_3f['FP']/(conf_matrix_3f['FP']+conf_matrix_3f['TN'])\n",
    "f3_accuracy = metrics.accuracy_score(y_test_3fold, predictions3)\n",
    "f3_gmean = math.sqrt(f3_precision*f3_recall)\n",
    "\n",
    "f3_dict = {'data_set' : 'HTRU 2', 'Algorithm' : 'Random Forest', \n",
    "           'G-Mean' : [f3_gmean], 'fscore' : [f3_fscore], 'recall' : [f3_recall], \n",
    "           'precision' : [f3_precision], 'specificity' : [f3_specificity], \n",
    "           'fpr' : [f3_fpr], 'accuracy' : [f3_accuracy]}\n",
    "\n",
    "f3_df = pd.DataFrame(data=f3_dict)\n",
    "f3_df.to_csv(path + '/output/rf_3_fold_metrics.csv', index = False, header=True)\n",
    "\n",
    "# 5 Fold - conf_matrix_5f\n",
    "f5_fscore = metrics.f1_score(y_test_5fold, predictions5)\n",
    "f5_recall = metrics.recall_score(y_test_5fold, predictions5)\n",
    "f5_precision = metrics.precision_score(y_test_5fold, predictions5)\n",
    "f5_specificity = conf_matrix_5f['TN']/(conf_matrix_5f['TN']+conf_matrix_5f['FP'])\n",
    "f5_fpr = conf_matrix_5f['FP']/(conf_matrix_5f['FP']+conf_matrix_5f['TN'])\n",
    "f5_accuracy = metrics.accuracy_score(y_test_5fold, predictions5)\n",
    "f5_gmean = math.sqrt(f5_precision*f5_recall)\n",
    "\n",
    "f5_dict = {'data_set' : 'HTRU 2', 'Algorithm' : 'Random Forest', \n",
    "           'G-Mean' : [f5_gmean], 'fscore' : [f5_fscore], 'recall' : [f5_recall], \n",
    "           'precision' : [f5_precision], 'specificity' : [f5_specificity], \n",
    "           'fpr' : [f5_fpr], 'accuracy' : [f5_accuracy]}\n",
    "\n",
    "f5_df = pd.DataFrame(data=f5_dict)\n",
    "f5_df.to_csv(path + '/output/rf_5_fold_metrics.csv', index = False, header=True)\n",
    "\n",
    "# 10 Fold - conf_matrix_10f\n",
    "f10_fscore = metrics.f1_score(y_test_10fold, predictions10)\n",
    "f10_recall = metrics.recall_score(y_test_10fold, predictions10)\n",
    "f10_precision = metrics.precision_score(y_test_10fold, predictions10)\n",
    "f10_specificity = conf_matrix_10f['TN']/(conf_matrix_10f['TN']+conf_matrix_10f['FP'])\n",
    "f10_fpr = conf_matrix_10f['FP']/(conf_matrix_10f['FP']+conf_matrix_10f['TN'])\n",
    "f10_accuracy = metrics.accuracy_score(y_test_10fold, predictions10)\n",
    "f10_gmean = math.sqrt(f10_precision*f10_recall)\n",
    "\n",
    "f10_dict = {'data_set' : 'HTRU 2', 'Algorithm' : 'Random Forest', \n",
    "           'G-Mean' : [f10_gmean], 'fscore' : [f10_fscore], 'recall' : [f10_recall], \n",
    "           'precision' : [f10_precision], 'specificity' : [f10_specificity], \n",
    "           'fpr' : [f10_fpr], 'accuracy' : [f10_accuracy]}\n",
    "\n",
    "f10_df = pd.DataFrame(data=f10_dict)\n",
    "f10_df.to_csv(path + '/output/rf_10_fold_metrics.csv', index = False, header=True)"
   ]
  },
  {
   "cell_type": "markdown",
   "metadata": {},
   "source": [
    "Feature Importance"
   ]
  },
  {
   "cell_type": "code",
   "execution_count": 30,
   "metadata": {},
   "outputs": [],
   "source": [
    "rf = RandomForestClassifier(max_depth=15, min_samples_split=15, n_estimators=200)\n",
    "\n",
    "model_5f = rf.fit(X_train_5fold, y_train_5fold)\n",
    "\n",
    "importances = list(model_5f.feature_importances_)\n",
    "\n",
    "# Zip importances to the feature names\n",
    "labled_importances = [(feature, round(importance, 2)) for feature, \n",
    "                       importance in zip(feature_list, importances)]\n",
    "\n",
    "# Sort from most to least important\n",
    "labled_importances = sorted(labled_importances, \n",
    "                            key=lambda x:x[1], reverse=True)"
   ]
  },
  {
   "cell_type": "code",
   "execution_count": 31,
   "metadata": {},
   "outputs": [
    {
     "name": "stdout",
     "output_type": "stream",
     "text": [
      "[('excessKurt_IP', 0.37), ('skewness_IP', 0.25), ('mean_IP', 0.16), ('mean_DMSNR', 0.07), ('standDev_DMSNR', 0.05), ('standDev_IP', 0.03), ('excessKurt_DMSNR', 0.03), ('skewness_DMSNR', 0.03)]\n"
     ]
    }
   ],
   "source": [
    "print(labled_importances)"
   ]
  },
  {
   "cell_type": "code",
   "execution_count": 33,
   "metadata": {},
   "outputs": [
    {
     "data": {
      "image/png": "[encoded data removed]",
      "text/plain": [
       "<Figure size 720x720 with 1 Axes>"
      ]
     },
     "metadata": {
      "needs_background": "light"
     },
     "output_type": "display_data"
    }
   ],
   "source": [
    "plt.rcParams['figure.figsize'] = [10, 10]\n",
    "x = list(range(len(importances)))\n",
    "\n",
    "# Make a bar chart\n",
    "plt.bar(x, importances, orientation = 'vertical')\n",
    "\n",
    "# Tick labels for x axis\n",
    "plt.xticks(x, feature_list, rotation='vertical')\n",
    "\n",
    "# Axis labels and title\n",
    "plt.ylabel('Importance')\n",
    "plt.title('Random Forest: Feature Importances')\n",
    "plt.savefig(path + '/output/rf_feature_importance.png', bbox_inches='tight')\n",
    "plt.show()"
   ]
  },
  {
   "cell_type": "code",
   "execution_count": null,
   "metadata": {},
   "outputs": [],
   "source": []
  }
 ],
 "metadata": {
  "kernelspec": {
   "display_name": "Python 3",
   "language": "python",
   "name": "python3"
  },
  "language_info": {
   "codemirror_mode": {
    "name": "ipython",
    "version": 3
   },
   "file_extension": ".py",
   "mimetype": "text/x-python",
   "name": "python",
   "nbconvert_exporter": "python",
   "pygments_lexer": "ipython3",
   "version": "3.8.8"
  }
 },
 "nbformat": 4,
 "nbformat_minor": 4
}
