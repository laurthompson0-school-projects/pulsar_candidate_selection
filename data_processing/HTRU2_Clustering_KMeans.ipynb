{
 "cells": [
  {
   "cell_type": "code",
   "execution_count": 1,
   "metadata": {},
   "outputs": [],
   "source": [
    "import numpy as np\n",
    "import os\n",
    "\n",
    "from sklearn import metrics, cluster, preprocessing\n",
    "from sklearn.decomposition import PCA\n",
    "import matplotlib.pyplot as plt\n",
    "import pandas as pd\n",
    "from itertools import cycle, islice"
   ]
  },
  {
   "cell_type": "markdown",
   "metadata": {},
   "source": [
    "# Data Preparation/Normalization\n",
    "\n",
    "\n",
    "The following cells import the Pulsar dataset to be clustered, transforms the dataset from a dataframe to a numpy array, and normalizes the values using Sklearn's built in RobustScalar and StandardScaler."
   ]
  },
  {
   "cell_type": "code",
   "execution_count": 2,
   "metadata": {},
   "outputs": [
    {
     "name": "stdout",
     "output_type": "stream",
     "text": [
      "      mean_IP  standDev_IP  excessKurt_IP  skewness_IP  mean_DMSNR  \\\n",
      "0  102.507812    58.882430       0.465318    -0.515088    1.677258   \n",
      "1  103.015625    39.341649       0.323328     1.051164    3.121237   \n",
      "2  136.750000    57.178449      -0.068415    -0.636238    3.642977   \n",
      "3   88.726562    40.672225       0.600866     1.123492    1.178930   \n",
      "4   93.570312    46.698114       0.531905     0.416721    1.636288   \n",
      "\n",
      "   standDev_DMSNR  excessKurt_DMSNR  \n",
      "0       14.860146         10.576487  \n",
      "1       21.744669          7.735822  \n",
      "2       20.959280          6.896499  \n",
      "3       11.468720         14.269573  \n",
      "4       14.545074         10.621748  \n",
      "   pulsar\n",
      "0       0\n",
      "1       0\n",
      "2       0\n",
      "3       0\n",
      "4       0\n",
      "       pulsar\n",
      "17892       0\n",
      "17893       0\n",
      "17894       0\n",
      "17895       0\n",
      "17896       0\n"
     ]
    }
   ],
   "source": [
    " path = \"../data\"\n",
    "\n",
    "pulsar_data = pd.read_csv(path + \"/input/HTRU2/HTRU_2.csv\", \n",
    "                          low_memory=False, index_col=False, usecols=[*range(0, 7)], header=0, \n",
    "                          names=[\"mean_IP\", \"standDev_IP\", \"excessKurt_IP\", \"skewness_IP\", \n",
    "                                 \"mean_DMSNR\", \"standDev_DMSNR\", \"excessKurt_DMSNR\", \"skewness_DMSNR\"])\n",
    "ground_truth = pd.read_csv(path + \"/input/HTRU2/HTRU_2.csv\", \n",
    "                           low_memory=False, index_col=False, usecols=[8], header=0, \n",
    "                           names=[\"pulsar\"])\n",
    "\n",
    "print(pulsar_data.head())\n",
    "print(ground_truth.head())\n",
    "print(ground_truth.tail())\n"
   ]
  },
  {
   "cell_type": "code",
   "execution_count": 3,
   "metadata": {},
   "outputs": [
    {
     "name": "stdout",
     "output_type": "stream",
     "text": [
      "[[ 1.02507812e+02  5.88824300e+01  4.65318154e-01 ...  1.67725752e+00\n",
      "   1.48601457e+01  1.05764867e+01]\n",
      " [ 1.03015625e+02  3.93416494e+01  3.23328365e-01 ...  3.12123746e+00\n",
      "   2.17446687e+01  7.73582202e+00]\n",
      " [ 1.36750000e+02  5.71784487e+01 -6.84146380e-02 ...  3.64297659e+00\n",
      "   2.09592803e+01  6.89649891e+00]\n",
      " ...\n",
      " [ 1.19335938e+02  5.99359394e+01  1.59363100e-01 ...  2.14306020e+01\n",
      "   5.88720002e+01  2.49951714e+00]\n",
      " [ 1.14507812e+02  5.39023997e+01  2.01161383e-01 ...  1.94648829e+00\n",
      "   1.33817306e+01  1.00079673e+01]\n",
      " [ 5.70625000e+01  8.57973403e+01  1.40639105e+00 ...  1.88306020e+02\n",
      "   6.47125623e+01 -1.59752658e+00]]\n"
     ]
    }
   ],
   "source": [
    "X = pulsar_data.to_numpy()\n",
    "print(X) "
   ]
  },
  {
   "cell_type": "code",
   "execution_count": 4,
   "metadata": {},
   "outputs": [
    {
     "name": "stdout",
     "output_type": "stream",
     "text": [
      "[[-4.80585424e-01  1.38028895e+00  5.42479397e-01 ... -3.17516525e-01\n",
      "  -2.57299472e-01  4.35359153e-01]\n",
      " [-4.61170848e-01 -8.79424110e-01  2.24289145e-01 ...  9.01794145e-02\n",
      "   2.34774745e-01 -1.41837223e-01]\n",
      " [ 8.28554361e-01  1.18323905e+00 -6.53582469e-01 ...  2.37488196e-01\n",
      "   1.78638771e-01 -3.12379790e-01]\n",
      " ...\n",
      " [ 1.62783751e-01  1.50211770e+00 -1.43146778e-01 ...  5.25967894e+00\n",
      "   2.88846658e+00 -1.20580516e+00]\n",
      " [-2.18040621e-02  8.04393855e-01 -4.94794355e-02 ... -2.41501417e-01\n",
      "  -3.62969819e-01  3.19841348e-01]\n",
      " [-2.21804062e+00  4.49275285e+00  2.65136500e+00 ...  5.23755902e+01\n",
      "   3.30592324e+00 -2.03828594e+00]]\n",
      "[[-0.33410698  1.80237928 -0.01182199 ... -0.37111042 -0.58893062\n",
      "   0.50440885]\n",
      " [-0.31431076 -1.05327065 -0.14526773 ... -0.3221168  -0.2353432\n",
      "  -0.12599666]\n",
      " [ 1.0007676   1.55336292 -0.51343811 ... -0.30441441 -0.27568056\n",
      "  -0.31226078]\n",
      " ...\n",
      " [ 0.32190941  1.956337   -0.2993666  ...  0.29911214  1.67150747\n",
      "  -1.28804701]\n",
      " [ 0.13369301  1.07460777 -0.26008348 ... -0.36197554 -0.66486165\n",
      "   0.37824198]\n",
      " [-2.1057167   5.73566952  0.87262308 ...  5.96112402  1.97147732\n",
      "  -2.19727045]]\n",
      "[[0.51762787 0.46090841 0.23541516 ... 0.00655997 0.0725243  0.36401483]\n",
      " [0.52034628 0.19686832 0.22113842 ... 0.01303002 0.13918843 0.28862387]\n",
      " [0.70093263 0.43788377 0.18174959 ... 0.01536779 0.13158337 0.26634832]\n",
      " ...\n",
      " [0.60771193 0.4751437  0.2046521  ... 0.09506897 0.49869934 0.14965285]\n",
      " [0.58186609 0.39361695 0.20885482 ... 0.00776631 0.05820853 0.34892638]\n",
      " [0.27435072 0.82458965 0.33003783 ... 0.84278928 0.5552546  0.04091771]]\n"
     ]
    }
   ],
   "source": [
    "transformer = preprocessing.RobustScaler().fit(X)\n",
    "transformer_2 = preprocessing.StandardScaler().fit(X)\n",
    "transformer_3 = preprocessing.MinMaxScaler().fit(X)\n",
    "\n",
    "X_tr = transformer.transform(X)\n",
    "X_ts = transformer_2.transform(X)\n",
    "X_tm = transformer_3.transform(X)\n",
    "print(X_tr)\n",
    "print(X_ts)\n",
    "print(X_tm)"
   ]
  },
  {
   "cell_type": "markdown",
   "metadata": {},
   "source": [
    "Clustering\n",
    "\n",
    "The following cells use KMeans Clustering on the normalized dataset and receives an array of labels for each instance that was clustered. A ground truth matrix is generated from the new data using ground truth values from the original dataset.\n",
    "\n",
    "In this instance, number of clusters is 8 and max_iter=300 were chosen values for clustering. "
   ]
  },
  {
   "cell_type": "code",
   "execution_count": 5,
   "metadata": {},
   "outputs": [
    {
     "name": "stdout",
     "output_type": "stream",
     "text": [
      "(array([0, 1], dtype=int32), array([16094,  1803]))\n",
      "(array([0, 1], dtype=int32), array([16444,  1453]))\n",
      "(array([0, 1], dtype=int32), array([16752,  1145]))\n",
      "(array([0, 1], dtype=int32), array([ 2328, 15569]))\n"
     ]
    }
   ],
   "source": [
    "km_raw = cluster.KMeans(n_clusters=2, init='k-means++', max_iter=300).fit(X)\n",
    "km_r = cluster.KMeans(n_clusters=2, init='k-means++', max_iter=300).fit(X_tr)\n",
    "km_s = cluster.KMeans(n_clusters=2, init='k-means++', max_iter=300).fit(X_ts)\n",
    "km_m = cluster.KMeans(n_clusters=2, init='k-means++', max_iter=300).fit(X_tm)\n",
    "print(np.unique(km_raw.labels_, return_counts = True))\n",
    "print(np.unique(km_r.labels_, return_counts = True))\n",
    "print(np.unique(km_s.labels_, return_counts = True))\n",
    "print(np.unique(km_m.labels_, return_counts = True))"
   ]
  },
  {
   "cell_type": "code",
   "execution_count": 6,
   "metadata": {},
   "outputs": [
    {
     "name": "stdout",
     "output_type": "stream",
     "text": [
      "(array([0, 1]), array([16258,  1639]))\n",
      "(array([False,  True]), array([17072,   825]))\n",
      "(array([False,  True]), array([17348,   549]))\n",
      "(array([False,  True]), array([16632,  1265]))\n",
      "KMeans Clustering Metrics:\n",
      "robust_scalar\\\n",
      "rand score =  0.8497717118636621\n",
      "adjusted mutual info score =  0.2300398292337505\n",
      "fowlkes-mallow =  0.9108597608201152\n",
      "standard_scalar\\\n",
      "rand score =  0.9347769555732026\n",
      "adjusted mutual info score =  0.5839365376469203\n",
      "fowlkes-mallow =  0.9622992088126792\n",
      "standard_scalar\\\n",
      "rand score =  0.8523000373492694\n",
      "adjusted mutual info score =  0.34045961714370293\n",
      "fowlkes-mallow =  0.9087374879950447\n"
     ]
    }
   ],
   "source": [
    "labels_truth = ground_truth.to_numpy().transpose()[0]\n",
    "print(np.unique(labels_truth, return_counts=True))\n",
    "print(np.unique(np.less(km_r.labels_, labels_truth), return_counts=True))\n",
    "km_r.labels_[km_r.labels_ == 1 ] = -1\n",
    "km_r.labels_[km_r.labels_ == 0 ] = 1\n",
    "km_r.labels_[km_r.labels_ == -1 ] = 0\n",
    "print(np.unique(np.less(km_s.labels_, labels_truth), return_counts=True))\n",
    "km_s.labels_[km_s.labels_ == 1 ] = -1\n",
    "km_s.labels_[km_s.labels_ == 0 ] = 1\n",
    "km_s.labels_[km_s.labels_ == -1 ] = 0\n",
    "print(np.unique(np.less(km_m.labels_, labels_truth), return_counts=True))\n",
    "print('KMeans Clustering Metrics:')\n",
    "labels_pred = km_r.labels_\n",
    "print('robust_scalar\\\\')\n",
    "rand_r = metrics.rand_score(labels_truth, labels_pred)\n",
    "print('rand score = ', rand_r)\n",
    "print('adjusted mutual info score = ', metrics.adjusted_mutual_info_score(labels_truth, labels_pred))\n",
    "fm_r = metrics.fowlkes_mallows_score(labels_truth, labels_pred)\n",
    "print('fowlkes-mallow = ', fm_r)\n",
    "labels_pred = km_s.labels_\n",
    "print('standard_scalar\\\\')\n",
    "rand_s = metrics.rand_score(labels_truth, labels_pred)\n",
    "print('rand score = ', rand_s)\n",
    "print('adjusted mutual info score = ', metrics.adjusted_mutual_info_score(labels_truth, labels_pred))\n",
    "fm_s = metrics.fowlkes_mallows_score(labels_truth, labels_pred)\n",
    "print('fowlkes-mallow = ', fm_s)\n",
    "labels_pred = km_m.labels_\n",
    "print('standard_scalar\\\\')\n",
    "print('rand score = ', metrics.rand_score(labels_truth, labels_pred))\n",
    "print('adjusted mutual info score = ', metrics.adjusted_mutual_info_score(labels_truth, labels_pred))\n",
    "print('fowlkes-mallow = ', metrics.fowlkes_mallows_score(labels_truth, labels_pred))"
   ]
  },
  {
   "cell_type": "code",
   "execution_count": 7,
   "metadata": {},
   "outputs": [
    {
     "data": {
      "text/html": [
       "<div>\n",
       "<style scoped>\n",
       "    .dataframe tbody tr th:only-of-type {\n",
       "        vertical-align: middle;\n",
       "    }\n",
       "\n",
       "    .dataframe tbody tr th {\n",
       "        vertical-align: top;\n",
       "    }\n",
       "\n",
       "    .dataframe thead th {\n",
       "        text-align: right;\n",
       "    }\n",
       "</style>\n",
       "<table border=\"1\" class=\"dataframe\">\n",
       "  <thead>\n",
       "    <tr style=\"text-align: right;\">\n",
       "      <th></th>\n",
       "      <th>Clustering Algorithm</th>\n",
       "      <th>Normalization Method</th>\n",
       "      <th>Rand Index</th>\n",
       "      <th>Fowlkes-Mallow</th>\n",
       "    </tr>\n",
       "  </thead>\n",
       "  <tbody>\n",
       "    <tr>\n",
       "      <th>0</th>\n",
       "      <td>K-means</td>\n",
       "      <td>z-score</td>\n",
       "      <td>0.934777</td>\n",
       "      <td>0.962299</td>\n",
       "    </tr>\n",
       "    <tr>\n",
       "      <th>1</th>\n",
       "      <td>K-means</td>\n",
       "      <td>robust scalar</td>\n",
       "      <td>0.849772</td>\n",
       "      <td>0.910860</td>\n",
       "    </tr>\n",
       "  </tbody>\n",
       "</table>\n",
       "</div>"
      ],
      "text/plain": [
       "  Clustering Algorithm Normalization Method  Rand Index  Fowlkes-Mallow\n",
       "0              K-means              z-score    0.934777        0.962299\n",
       "1              K-means        robust scalar    0.849772        0.910860"
      ]
     },
     "execution_count": 7,
     "metadata": {},
     "output_type": "execute_result"
    }
   ],
   "source": [
    "Kmeans_Metrics = pd.DataFrame([[\"K-means\", \"z-score\", rand_s, fm_s], [\"K-means\", \"robust scalar\", rand_r, fm_r]], columns=[\"Clustering Algorithm\", \"Normalization Method\", \n",
    "                                           \"Rand Index\", \"Fowlkes-Mallow\"])\n",
    "\n",
    "Kmeans_Metrics.to_csv(path + \"/output/kmeans_metrics.csv\")\n",
    "Kmeans_Metrics"
   ]
  },
  {
   "cell_type": "code",
   "execution_count": null,
   "metadata": {},
   "outputs": [],
   "source": []
  }
 ],
 "metadata": {
  "kernelspec": {
   "display_name": "Python 3",
   "language": "python",
   "name": "python3"
  },
  "language_info": {
   "codemirror_mode": {
    "name": "ipython",
    "version": 3
   },
   "file_extension": ".py",
   "mimetype": "text/x-python",
   "name": "python",
   "nbconvert_exporter": "python",
   "pygments_lexer": "ipython3",
   "version": "3.8.8"
  }
 },
 "nbformat": 4,
 "nbformat_minor": 2
}
