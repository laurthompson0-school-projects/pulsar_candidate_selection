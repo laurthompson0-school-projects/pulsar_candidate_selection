{
 "cells": [
  {
   "cell_type": "markdown",
   "id": "28cf2e45",
   "metadata": {},
   "source": [
    "### Naive Bayes Binary Classification on HTRU2 Pulsar Data"
   ]
  },
  {
   "cell_type": "code",
   "execution_count": 2,
   "id": "58df6fa1",
   "metadata": {},
   "outputs": [],
   "source": [
    "#Import all the things\n",
    "\n",
    "import numpy as np\n",
    "import os\n",
    "import warnings\n",
    "warnings.filterwarnings('ignore')\n",
    "from timeit import default_timer as timer\n",
    "\n",
    "from sklearn.naive_bayes import GaussianNB\n",
    "from sklearn import metrics, model_selection, preprocessing\n",
    "from sklearn.metrics import plot_confusion_matrix\n",
    "from sklearn.decomposition import PCA\n",
    "import matplotlib.pyplot as plt\n",
    "%matplotlib inline\n",
    "import pandas as pd\n",
    "from itertools import cycle, islice\n",
    "\n",
    "import seaborn as sns\n",
    "import plotly as py\n",
    "import plotly.express as px\n",
    "import plotly.graph_objs as go\n",
    "from plotly.offline import download_plotlyjs, init_notebook_mode, plot, iplot\n",
    "import joblib\n",
    "import pickle\n",
    "import pandas\n",
    "\n",
    "import imblearn"
   ]
  },
  {
   "cell_type": "code",
   "execution_count": 3,
   "id": "f3e89740",
   "metadata": {
    "scrolled": true
   },
   "outputs": [],
   "source": [
    "#Read in data \n",
    "\n",
    "path = \"../data\"\n",
    "\n",
    "pulsar_data = pd.read_csv(path + \"/input/HTRU2/HTRU_2.csv\", \n",
    "                          low_memory=False, index_col=False, header=0, \n",
    "                          names=[\"mean_IP\", \"standDev_IP\", \"excessKurt_IP\", \"skewness_IP\", \n",
    "                                 \"mean_DMSNR\", \"standDev_DMSNR\", \"excessKurt_DMSNR\", \"skewness_DMSNR\", \"pulsar\"])\n",
    "#print(pulsar_data.head())"
   ]
  },
  {
   "cell_type": "markdown",
   "id": "efd70fc2",
   "metadata": {},
   "source": [
    "### Generate Training/Test Data - Paper Splits, 3-fold, 5-fold, 10-fold Cross Validation"
   ]
  },
  {
   "cell_type": "code",
   "execution_count": 4,
   "id": "14d64796",
   "metadata": {},
   "outputs": [],
   "source": [
    "#GENERATE TRAINING/TEST DATA ACCORDING TO SPLITS IN PAPER\n",
    "\n",
    "#Get data frame of just pulsar and just noise\n",
    "confirmed_pulsar = pulsar_data[pulsar_data['pulsar'] == 1]\n",
    "confirmed_noise = pulsar_data[pulsar_data['pulsar'] == 0]\n",
    "\n",
    "#Split data into training sets based on splits in paper\n",
    "positive_train_paper_split = confirmed_pulsar.iloc[:200]\n",
    "negative_train_paper_split = confirmed_noise.iloc[:200]\n",
    "positive_test_paper_split = confirmed_pulsar.iloc[200:]\n",
    "negative_test_paper_split = confirmed_noise.iloc[200:]\n",
    "\n",
    "#Merge positive and negative splits\n",
    "train_paper_split = pd.concat([positive_train_paper_split, negative_train_paper_split],\n",
    "                               ignore_index=True, sort=False)\n",
    "test_paper_split = pd.concat([positive_test_paper_split, negative_test_paper_split],\n",
    "                               ignore_index=True, sort=False)\n",
    "#???\n",
    "train_paper_split = train_paper_split.sample(frac=1).reset_index(drop=True)\n",
    "test_paper_split = test_paper_split.sample(frac=1).reset_index(drop=True)\n",
    "\n",
    "#Separate data from labels\n",
    "X_train_paper_split = train_paper_split.iloc[:, :8]\n",
    "X_test_paper_split = test_paper_split.iloc[:, :8]\n",
    "y_train_paper_split = train_paper_split.iloc[:, 8]\n",
    "y_test_paper_split = test_paper_split.iloc[:, 8]\n",
    "\n",
    "#Display training/testing sets\n",
    "#print(X_train_paper_split.shape)\n",
    "#print(X_train_paper_split.head())\n",
    "#print(X_test_paper_split.shape)\n",
    "#print(X_test_paper_split.head())\n",
    "#print(y_train_paper_split.shape)\n",
    "#print(y_train_paper_split.head())\n",
    "#print(y_test_paper_split.shape)\n",
    "#print(y_test_paper_split.head())"
   ]
  },
  {
   "cell_type": "code",
   "execution_count": 5,
   "id": "650d2ac0",
   "metadata": {},
   "outputs": [],
   "source": [
    "#GENERATE TEST/TRAINING DATA USING SPLITS FROM k-fold CROSS VALIDATION\n",
    "\n",
    "#Separate data from labesl\n",
    "X, y = pulsar_data.iloc[:, :8], pulsar_data.iloc[:, 8]\n",
    "\n",
    "#print(X.head())\n",
    "#print(y.head())\n",
    "\n",
    "#Split data for 3-fold cross validation\n",
    "X_train_3fold, X_test_3fold, y_train_3fold, y_test_3fold = model_selection.train_test_split(X, y, test_size=0.33, \n",
    "                                                                            random_state=42, stratify=y)\n",
    "#Split data for 5-fold cross validation\n",
    "X_train_5fold, X_test_5fold, y_train_5fold, y_test_5fold = model_selection.train_test_split(X, y, test_size=0.2, \n",
    "                                                                            random_state=42, stratify=y)\n",
    "\n",
    "#Split data for 10-fold cross validation\n",
    "X_train_10fold, X_test_10fold, y_train_10fold, y_test_10fold = model_selection.train_test_split(X, y, test_size=0.1, \n",
    "                                                                            random_state=42, stratify=y)"
   ]
  },
  {
   "cell_type": "markdown",
   "id": "e2ed67df",
   "metadata": {},
   "source": [
    "### Paper Split - ??"
   ]
  },
  {
   "cell_type": "code",
   "execution_count": 6,
   "id": "9daf1966",
   "metadata": {},
   "outputs": [
    {
     "name": "stdout",
     "output_type": "stream",
     "text": [
      "Fitting 2 folds for each of 100 candidates, totalling 200 fits\n",
      "{'var_smoothing': 4.328761281083062e-05}\n",
      "GaussianNB(var_smoothing=4.328761281083062e-05)\n"
     ]
    }
   ],
   "source": [
    "#USE GRIDSEARCH TO GENERATE BEST HYPERPARAMS FOR MODEL\n",
    "#Using splits from paper\n",
    "\n",
    "#Specify Hyperparameters - Gaussian NB only has var_smoothing and priors (which is not useful in this case)\n",
    "params = {'var_smoothing': np.logspace(0,-9, num=100)}\n",
    "\n",
    "#Get model for data splits\n",
    "skf =  model_selection.StratifiedKFold(n_splits=2, shuffle = True, random_state = 1001)\n",
    "\n",
    "gnb = GaussianNB()\n",
    "\n",
    "#Determine best hyperparameters given split and classifier method\n",
    "grid =  model_selection.GridSearchCV(estimator=gnb, param_grid=params, scoring='f1', n_jobs=-1, cv=skf.split(X_train_paper_split, y_train_paper_split), verbose=3)\n",
    "grid.fit(X_train_paper_split, y_train_paper_split)\n",
    "\n",
    "#Print best hyper parameter and model results\n",
    "print(grid.best_params_)\n",
    "print(grid.best_estimator_)"
   ]
  },
  {
   "cell_type": "code",
   "execution_count": 7,
   "id": "c1d359f5",
   "metadata": {},
   "outputs": [],
   "source": [
    "#GENERATE/TRAIN MODEL USING BEST HYPER PARAMETERS\n",
    "#For splits based on paper\n",
    "\n",
    "gnb = GaussianNB(var_smoothing = grid.best_params_.get('var_smoothing'))\n",
    "\n",
    "startTrain = timer()\n",
    "model = gnb.fit(X_train_paper_split, y_train_paper_split)\n",
    "endTrain = timer()\n",
    "\n",
    "#print(endTrain -  startTrain)"
   ]
  },
  {
   "cell_type": "code",
   "execution_count": 8,
   "id": "53352f5d",
   "metadata": {},
   "outputs": [
    {
     "name": "stdout",
     "output_type": "stream",
     "text": [
      "Accuracy: 91.88%\n",
      "auc: 89.82%\n",
      "Naive Bayes Confusion Matrix: Paper Split\n",
      "[[14819  1239]\n",
      " [  182  1257]]\n"
     ]
    },
    {
     "data": {
      "image/png": "[encoded data removed]",
      "text/plain": [
       "<Figure size 720x720 with 2 Axes>"
      ]
     },
     "metadata": {
      "needs_background": "light"
     },
     "output_type": "display_data"
    }
   ],
   "source": [
    "#PRINT ANALYSIS OF RESULTS\n",
    "#Using splits from paper\n",
    "\n",
    "y_pred = model.predict(X_test_paper_split)\n",
    "predictions = [round(value) for value in y_pred]\n",
    "\n",
    "#Accuracy\n",
    "accuracy = metrics.accuracy_score(y_test_paper_split, predictions)\n",
    "print(\"Accuracy: %.2f%%\" % (accuracy * 100.0))\n",
    "\n",
    "#auc\n",
    "auc = metrics.roc_auc_score(y_test_paper_split, predictions)\n",
    "print(\"auc: %.2f%%\" % (auc * 100.0))\n",
    "\n",
    "plt.rcParams['figure.figsize'] = [10, 10]\n",
    "\n",
    "#Confusion Matrix\n",
    "disp = plot_confusion_matrix(model, X_test_paper_split, y_test_paper_split,\n",
    "                                 cmap=plt.cm.Blues)\n",
    "tn, fp, fn, tp = metrics.confusion_matrix(y_test_paper_split, predictions).ravel()\n",
    "\n",
    "title = \"Naive Bayes Confusion Matrix: Paper Split\"\n",
    "disp.ax_.set_title(title)\n",
    "\n",
    "print(title)\n",
    "print(disp.confusion_matrix)\n",
    "\n",
    "plt.savefig(path + \"/output/NB_PaperSplit_Confusion.png\", bbox_inches='tight')\n",
    "plt.show()"
   ]
  },
  {
   "cell_type": "code",
   "execution_count": 9,
   "id": "577aeafe",
   "metadata": {},
   "outputs": [
    {
     "name": "stdout",
     "output_type": "stream",
     "text": [
      "Geometric mean: 0.8978441640554197\n",
      "F-score: 0.638881829733164\n",
      "Recall: 0.8735232800555942\n",
      "Precision: 0.5036057692307693\n",
      "Specificity: 0.9228421970357454\n",
      "False positive rate: 0.07715780296425458\n",
      "Accuracy: 91.88%\n",
      "auc: 89.82%\n"
     ]
    }
   ],
   "source": [
    "#G-Mean - ??\n",
    "gmean = imblearn.metrics.geometric_mean_score(y_test_paper_split, predictions)\n",
    "print(\"Geometric mean: \" + str(gmean))\n",
    "\n",
    "#F-score\n",
    "fscore = metrics.f1_score(y_test_paper_split, predictions)\n",
    "print(\"F-score: \" + str(fscore))\n",
    "\n",
    "#Recall\n",
    "recall = metrics.recall_score(y_test_paper_split, predictions)\n",
    "print(\"Recall: \" + str(recall))\n",
    "\n",
    "#Precision\n",
    "precision = metrics.precision_score(y_test_paper_split, predictions)\n",
    "print(\"Precision: \" + str(precision))\n",
    "\n",
    "#Specificity\n",
    "specificity = tn / (tn + fp)\n",
    "print(\"Specificity: \" + str(specificity))\n",
    "\n",
    "#FPR\n",
    "fpr = fp / (fp + tn)\n",
    "print(\"False positive rate: \" + str(fpr))\n",
    "\n",
    "#Accuracy\n",
    "accuracy = metrics.accuracy_score(y_test_paper_split, predictions)\n",
    "print(\"Accuracy: %.2f%%\" % (accuracy * 100.0))\n",
    "\n",
    "#auc\n",
    "auc = metrics.roc_auc_score(y_test_paper_split, predictions)\n",
    "print(\"auc: %.2f%%\" % (auc * 100.0))\n",
    "\n",
    "d = {'gmean' : [gmean], 'fscore' : [fscore], 'recall' : [recall], 'precision' : [precision], 'specificity' : [specificity], 'fpr' : [fpr], 'accuracy' : [accuracy], 'roc_auc' : [auc]}\n",
    "df = pd.DataFrame(data=d)\n",
    "\n",
    "df.to_csv (path + \"/output/NB_metrics_papersplit.csv\", index = False, header=True)"
   ]
  },
  {
   "cell_type": "markdown",
   "id": "b4763830",
   "metadata": {},
   "source": [
    "### 3-fold Cross Validation"
   ]
  },
  {
   "cell_type": "code",
   "execution_count": 10,
   "id": "4cd1af7a",
   "metadata": {
    "scrolled": false
   },
   "outputs": [
    {
     "name": "stdout",
     "output_type": "stream",
     "text": [
      "Fitting 3 folds for each of 100 candidates, totalling 300 fits\n",
      "{'var_smoothing': 5.336699231206302e-08}\n",
      "GaussianNB(var_smoothing=5.336699231206302e-08)\n"
     ]
    }
   ],
   "source": [
    "#GENERATE NAIVE BAYES CLASSIFICATION MODEL AND TUNE HYPERPARAMETERS USING GRIDSEARCHCV\n",
    "#FOR 3-fold\n",
    "\n",
    "#Specify Hyperparameters - Gaussian NB only has var_smoothing and priors (which is not useful in this case)\n",
    "params = {'var_smoothing': np.logspace(0,-9, num=100)}\n",
    "\n",
    "#Generate k-fold cross validation model\n",
    "skf =  model_selection.StratifiedKFold(n_splits=3, shuffle = True, random_state = 1001)\n",
    "\n",
    "#Generate classification model\n",
    "#xgb = XGBClassifier(learning_rate=0.02, n_estimators=600, objective='binary:logistic', use_label_encoder=False, eval_metric='logloss')\n",
    "gnb = GaussianNB()\n",
    "\n",
    "#Generate gridsearch model to tune hyperparameters\n",
    "grid =  model_selection.GridSearchCV(estimator=gnb, param_grid=params, scoring='f1', n_jobs=-1, cv=skf.split(X_train_3fold, y_train_3fold), verbose=3)\n",
    "grid.fit(X_train_3fold, y_train_3fold) #Fit the model using training data\n",
    "\n",
    "print(grid.best_params_)\n",
    "print(grid.best_estimator_)"
   ]
  },
  {
   "cell_type": "code",
   "execution_count": 11,
   "id": "d788d601",
   "metadata": {},
   "outputs": [],
   "source": [
    "#GENERATE NEW MODEL BASED ON BEST HYPERPARAMS FOUND BY GRIDSEARCH (THIS IS THE BEST MODEL)\n",
    "#Using k-fold cross validation splits\n",
    "\n",
    "gnb = GaussianNB(var_smoothing = grid.best_params_.get('var_smoothing'))\n",
    "\n",
    "startTrain = timer()\n",
    "model = gnb.fit(X_train_3fold, y_train_3fold)\n",
    "endTrain = timer()\n",
    "\n",
    "#print(endTrain -  startTrain) #Show time taken to train model"
   ]
  },
  {
   "cell_type": "code",
   "execution_count": 12,
   "id": "98ef30d1",
   "metadata": {},
   "outputs": [
    {
     "name": "stdout",
     "output_type": "stream",
     "text": [
      "Accuracy: 94.40%\n",
      "auc: 91.10%\n",
      "Naive Bayes Confusion Matrix: 3 Fold CV\n",
      "[[5105  261]\n",
      " [  70  471]]\n"
     ]
    },
    {
     "data": {
      "image/png": "[encoded data removed]",
      "text/plain": [
       "<Figure size 720x720 with 2 Axes>"
      ]
     },
     "metadata": {
      "needs_background": "light"
     },
     "output_type": "display_data"
    }
   ],
   "source": [
    "#DISPLAY QUALITY OF RESULTS\n",
    "#Using k-fold cross validation splits\n",
    "\n",
    "#Get models results\n",
    "y_pred = model.predict(X_test_3fold)\n",
    "predictions = [round(value) for value in y_pred]\n",
    "\n",
    "#Print accuracy - EQUATION?\n",
    "accuracy = metrics.accuracy_score(y_test_3fold, predictions)\n",
    "print(\"Accuracy: %.2f%%\" % (accuracy * 100.0))\n",
    "\n",
    "#auc\n",
    "auc = metrics.roc_auc_score(y_test_3fold, predictions)\n",
    "print(\"auc: %.2f%%\" % (auc * 100.0))\n",
    "\n",
    "plt.rcParams['figure.figsize'] = [10, 10]\n",
    "\n",
    "#Confusion Matrix\n",
    "disp = plot_confusion_matrix(model, X_test_3fold, y_test_3fold,\n",
    "                                 cmap=plt.cm.Blues)\n",
    "tn, fp, fn, tp = metrics.confusion_matrix(y_test_3fold, predictions).ravel()\n",
    "\n",
    "title = \"Naive Bayes Confusion Matrix: 3 Fold CV\"\n",
    "disp.ax_.set_title(title)\n",
    "\n",
    "print(title)\n",
    "print(disp.confusion_matrix)\n",
    "\n",
    "plt.savefig(path + \"/output/NB_3fold_Confusion.png\", bbox_inches='tight')\n",
    "plt.show()"
   ]
  },
  {
   "cell_type": "code",
   "execution_count": 13,
   "id": "3ce16204",
   "metadata": {},
   "outputs": [
    {
     "name": "stdout",
     "output_type": "stream",
     "text": [
      "Geometric mean: 0.9100900369990707\n",
      "F-score: 0.7399842890809112\n",
      "Recall: 0.8706099815157117\n",
      "Precision: 0.6434426229508197\n",
      "Specificity: 0.9513604174431607\n",
      "False positive rate: 0.04863958255683936\n",
      "Accuracy: 94.40%\n",
      "auc: 91.10%\n"
     ]
    }
   ],
   "source": [
    "#G-Mean\n",
    "gmean = imblearn.metrics.geometric_mean_score(y_test_3fold, predictions)\n",
    "print(\"Geometric mean: \" + str(gmean))\n",
    "\n",
    "#F-score\n",
    "fscore = metrics.f1_score(y_test_3fold, predictions)\n",
    "print(\"F-score: \" + str(fscore))\n",
    "\n",
    "#Recall\n",
    "recall = metrics.recall_score(y_test_3fold, predictions)\n",
    "print(\"Recall: \" + str(recall))\n",
    "\n",
    "#Precision\n",
    "precision = metrics.precision_score(y_test_3fold, predictions)\n",
    "print(\"Precision: \" + str(precision))\n",
    "\n",
    "#Specificity\n",
    "specificity = tn / (tn + fp)\n",
    "print(\"Specificity: \" + str(specificity))\n",
    "\n",
    "#FPR\n",
    "fpr = fp / (fp + tn)\n",
    "print(\"False positive rate: \" + str(fpr))\n",
    "\n",
    "#Accuracy\n",
    "accuracy = metrics.accuracy_score(y_test_3fold, predictions)\n",
    "print(\"Accuracy: %.2f%%\" % (accuracy * 100.0))\n",
    "\n",
    "#auc\n",
    "auc = metrics.roc_auc_score(y_test_3fold, predictions)\n",
    "print(\"auc: %.2f%%\" % (auc * 100.0))\n",
    "\n",
    "d = {'gmean' : [gmean], 'fscore' : [fscore], 'recall' : [recall], 'precision' : [precision], 'specificity' : [specificity], 'fpr' : [fpr], 'accuracy' : [accuracy], 'roc_auc' : [auc]}\n",
    "df = pd.DataFrame(data=d)\n",
    "\n",
    "df.to_csv (path + \"/output/NB_metrics_3fold.csv\", index = False, header=True)"
   ]
  },
  {
   "cell_type": "markdown",
   "id": "fcc358fa",
   "metadata": {},
   "source": [
    "### 5-Fold Cross Validation"
   ]
  },
  {
   "cell_type": "code",
   "execution_count": 14,
   "id": "42f346fd",
   "metadata": {},
   "outputs": [
    {
     "name": "stdout",
     "output_type": "stream",
     "text": [
      "Fitting 5 folds for each of 100 candidates, totalling 500 fits\n",
      "{'var_smoothing': 8.111308307896872e-07}\n",
      "GaussianNB(var_smoothing=8.111308307896872e-07)\n"
     ]
    }
   ],
   "source": [
    "#GENERATE NAIVE BAYES CLASSIFICATION MODEL AND TUNE HYPERPARAMETERS USING GRIDSEARCHCV\n",
    "#FOR 5-fold\n",
    "\n",
    "#Specify Hyperparameters - Gaussian NB only has var_smoothing and priors (which is not useful in this case)\n",
    "params = {'var_smoothing': np.logspace(0,-9, num=100)}\n",
    "\n",
    "#Generate 5-fold cross validation model\n",
    "skf =  model_selection.StratifiedKFold(n_splits=5, shuffle = True, random_state = 1001)\n",
    "\n",
    "#Generate classification model\n",
    "gnb = GaussianNB()\n",
    "\n",
    "#Generate gridsearch model to tune hyperparameters\n",
    "grid =  model_selection.GridSearchCV(estimator=gnb, param_grid=params, scoring='f1', n_jobs=-1, cv=skf.split(X_train_5fold, y_train_5fold), verbose=3)\n",
    "grid.fit(X_train_5fold, y_train_5fold) #Fit the model using training data\n",
    "\n",
    "print(grid.best_params_)\n",
    "print(grid.best_estimator_)"
   ]
  },
  {
   "cell_type": "code",
   "execution_count": 15,
   "id": "8b8fd6d5",
   "metadata": {},
   "outputs": [],
   "source": [
    "#GENERATE NEW MODEL BASED ON BEST HYPERPARAMS FOUND BY GRIDSEARCH (THIS IS THE BEST MODEL)\n",
    "#Using k-fold cross validation splits\n",
    "\n",
    "gnb = GaussianNB(var_smoothing = grid.best_params_.get('var_smoothing'))\n",
    "\n",
    "startTrain = timer()\n",
    "model = gnb.fit(X_train_5fold, y_train_5fold)\n",
    "endTrain = timer()\n",
    "\n",
    "#print(endTrain -  startTrain) #Show time taken to train model"
   ]
  },
  {
   "cell_type": "code",
   "execution_count": 16,
   "id": "32efef90",
   "metadata": {},
   "outputs": [
    {
     "name": "stdout",
     "output_type": "stream",
     "text": [
      "Accuracy: 94.25%\n",
      "auc: 90.80%\n",
      "Naive Bayes Confusion Matrix: 5 Fold CV\n",
      "[[3090  162]\n",
      " [  44  284]]\n"
     ]
    },
    {
     "data": {
      "image/png": "[encoded data removed]",
      "text/plain": [
       "<Figure size 720x720 with 2 Axes>"
      ]
     },
     "metadata": {
      "needs_background": "light"
     },
     "output_type": "display_data"
    }
   ],
   "source": [
    "#DISPLAY QUALITY OF RESULTS\n",
    "#Using k-fold cross validation splits\n",
    "\n",
    "#Get models results\n",
    "y_pred = model.predict(X_test_5fold)\n",
    "predictions = [round(value) for value in y_pred]\n",
    "\n",
    "#Print accuracy - EQUATION?\n",
    "accuracy = metrics.accuracy_score(y_test_5fold, predictions)\n",
    "print(\"Accuracy: %.2f%%\" % (accuracy * 100.0))\n",
    "\n",
    "#auc\n",
    "auc = metrics.roc_auc_score(y_test_5fold, predictions)\n",
    "print(\"auc: %.2f%%\" % (auc * 100.0))\n",
    "\n",
    "plt.rcParams['figure.figsize'] = [10, 10]\n",
    "\n",
    "#Confusion Matrix\n",
    "disp = plot_confusion_matrix(model, X_test_5fold, y_test_5fold,\n",
    "                                 cmap=plt.cm.Blues)\n",
    "tn, fp, fn, tp = metrics.confusion_matrix(y_test_5fold, predictions).ravel()\n",
    "\n",
    "title = \"Naive Bayes Confusion Matrix: 5 Fold CV\"\n",
    "disp.ax_.set_title(title)\n",
    "\n",
    "print(title)\n",
    "print(disp.confusion_matrix)\n",
    "\n",
    "plt.savefig(path + \"/output/NB_5fold_Confusion.png\", bbox_inches='tight')\n",
    "plt.show()"
   ]
  },
  {
   "cell_type": "code",
   "execution_count": 17,
   "id": "8cfc0c99",
   "metadata": {},
   "outputs": [
    {
     "name": "stdout",
     "output_type": "stream",
     "text": [
      "Geometric mean: 0.9070395400462276\n",
      "F-score: 0.7338501291989663\n",
      "Recall: 0.8658536585365854\n",
      "Precision: 0.6367713004484304\n",
      "Specificity: 0.9501845018450185\n",
      "False positive rate: 0.04981549815498155\n",
      "Accuracy: 94.25%\n",
      "auc: 90.80%\n"
     ]
    }
   ],
   "source": [
    "#G-Mean \n",
    "gmean = imblearn.metrics.geometric_mean_score(y_test_5fold, predictions)\n",
    "print(\"Geometric mean: \" + str(gmean))\n",
    "\n",
    "#F-score\n",
    "fscore = metrics.f1_score(y_test_5fold, predictions)\n",
    "print(\"F-score: \" + str(fscore))\n",
    "\n",
    "#Recall\n",
    "recall = metrics.recall_score(y_test_5fold, predictions)\n",
    "print(\"Recall: \" + str(recall))\n",
    "\n",
    "#Precision\n",
    "precision = metrics.precision_score(y_test_5fold, predictions)\n",
    "print(\"Precision: \" + str(precision))\n",
    "\n",
    "#Specificity\n",
    "specificity = tn / (tn + fp)\n",
    "print(\"Specificity: \" + str(specificity))\n",
    "\n",
    "#FPR\n",
    "fpr = fp / (fp + tn)\n",
    "print(\"False positive rate: \" + str(fpr))\n",
    "\n",
    "#Accuracy\n",
    "accuracy = metrics.accuracy_score(y_test_5fold, predictions)\n",
    "print(\"Accuracy: %.2f%%\" % (accuracy * 100.0))\n",
    "\n",
    "#auc\n",
    "auc = metrics.roc_auc_score(y_test_5fold, predictions)\n",
    "print(\"auc: %.2f%%\" % (auc * 100.0))\n",
    "\n",
    "d = {'gmean' : [gmean], 'fscore' : [fscore], 'recall' : [recall], 'precision' : [precision], 'specificity' : [specificity], 'fpr' : [fpr], 'accuracy' : [accuracy], 'roc_auc' : [auc]}\n",
    "df = pd.DataFrame(data=d)\n",
    "\n",
    "df.to_csv (path + \"/output/NB_metrics_5fold.csv\", index = False, header=True)"
   ]
  },
  {
   "cell_type": "markdown",
   "id": "dc591413",
   "metadata": {},
   "source": [
    "### 10-Fold Cross Validation"
   ]
  },
  {
   "cell_type": "code",
   "execution_count": 18,
   "id": "4e821b3b",
   "metadata": {},
   "outputs": [
    {
     "name": "stdout",
     "output_type": "stream",
     "text": [
      "Fitting 10 folds for each of 100 candidates, totalling 1000 fits\n",
      "{'var_smoothing': 6.579332246575682e-07}\n",
      "GaussianNB(var_smoothing=6.579332246575682e-07)\n"
     ]
    }
   ],
   "source": [
    "#GENERATE NAIVE BAYES CLASSIFICATION MODEL AND TUNE HYPERPARAMETERS USING GRIDSEARCHCV\n",
    "#FOR 10-fold\n",
    "\n",
    "#Specify Hyperparameters - Gaussian NB only has var_smoothing and priors (which is not useful in this case)\n",
    "params = {'var_smoothing': np.logspace(0,-9, num=100)}\n",
    "\n",
    "#Generate 10-fold cross validation model\n",
    "skf =  model_selection.StratifiedKFold(n_splits=10, shuffle = True, random_state = 1001)\n",
    "\n",
    "#Generate classification model\n",
    "gnb = GaussianNB()\n",
    "\n",
    "#Generate gridsearch model to tune hyperparameters\n",
    "grid =  model_selection.GridSearchCV(estimator=gnb, param_grid=params, scoring='f1', n_jobs=-1, cv=skf.split(X_train_10fold, y_train_10fold), verbose=3)\n",
    "grid.fit(X_train_10fold, y_train_10fold) #Fit the model using training data\n",
    "\n",
    "print(grid.best_params_)\n",
    "print(grid.best_estimator_)"
   ]
  },
  {
   "cell_type": "code",
   "execution_count": 19,
   "id": "3a55b08e",
   "metadata": {},
   "outputs": [],
   "source": [
    "#GENERATE NEW MODEL BASED ON BEST HYPERPARAMS FOUND BY GRIDSEARCH (THIS IS THE BEST MODEL)\n",
    "#Using 10-fold cross validation splits\n",
    "\n",
    "gnb = GaussianNB(var_smoothing = grid.best_params_.get('var_smoothing'))\n",
    "\n",
    "startTrain = timer()\n",
    "model = gnb.fit(X_train_10fold, y_train_10fold)\n",
    "endTrain = timer()\n",
    "\n",
    "#print(endTrain -  startTrain) #Show time taken to train model"
   ]
  },
  {
   "cell_type": "code",
   "execution_count": 20,
   "id": "7f7fe872",
   "metadata": {},
   "outputs": [
    {
     "name": "stdout",
     "output_type": "stream",
     "text": [
      "Accuracy: 94.13%\n",
      "auc: 90.19%\n",
      "Naive Bayes Confusion Matrix: 10 Fold CV\n",
      "[[1545   81]\n",
      " [  24  140]]\n"
     ]
    },
    {
     "data": {
      "image/png": "[encoded data removed]",
      "text/plain": [
       "<Figure size 720x720 with 2 Axes>"
      ]
     },
     "metadata": {
      "needs_background": "light"
     },
     "output_type": "display_data"
    }
   ],
   "source": [
    "#DISPLAY QUALITY OF RESULTS\n",
    "#Using 10-fold cross validation splits\n",
    "\n",
    "#Get models results\n",
    "y_pred = model.predict(X_test_10fold)\n",
    "predictions = [round(value) for value in y_pred]\n",
    "\n",
    "#Print accuracy - EQUATION?\n",
    "accuracy = metrics.accuracy_score(y_test_10fold, predictions)\n",
    "print(\"Accuracy: %.2f%%\" % (accuracy * 100.0))\n",
    "\n",
    "#auc\n",
    "auc = metrics.roc_auc_score(y_test_10fold, predictions)\n",
    "print(\"auc: %.2f%%\" % (auc * 100.0))\n",
    "\n",
    "plt.rcParams['figure.figsize'] = [10, 10]\n",
    "\n",
    "#Confusion Matrix\n",
    "disp = plot_confusion_matrix(model, X_test_10fold, y_test_10fold,\n",
    "                                 cmap=plt.cm.Blues)\n",
    "tn, fp, fn, tp = metrics.confusion_matrix(y_test_10fold, predictions).ravel()\n",
    "title = \"Naive Bayes Confusion Matrix: 10 Fold CV\"\n",
    "disp.ax_.set_title(title)\n",
    "\n",
    "print(title)\n",
    "print(disp.confusion_matrix)\n",
    "\n",
    "plt.savefig(path + \"/output/NB_10fold_Confusion.png\", bbox_inches='tight')\n",
    "plt.show()"
   ]
  },
  {
   "cell_type": "code",
   "execution_count": 21,
   "id": "51318739",
   "metadata": {},
   "outputs": [
    {
     "name": "stdout",
     "output_type": "stream",
     "text": [
      "Geometric mean: 0.9006292862943739\n",
      "F-score: 0.7272727272727273\n",
      "Recall: 0.8536585365853658\n",
      "Precision: 0.6334841628959276\n",
      "Specificity: 0.9501845018450185\n",
      "False positive rate: 0.04981549815498155\n",
      "Accuracy: 94.13%\n",
      "auc: 90.19%\n"
     ]
    }
   ],
   "source": [
    "#G-Mean\n",
    "gmean = imblearn.metrics.geometric_mean_score(y_test_10fold, predictions)\n",
    "print(\"Geometric mean: \" + str(gmean))\n",
    "\n",
    "#F-score\n",
    "fscore = metrics.f1_score(y_test_10fold, predictions)\n",
    "print(\"F-score: \" + str(fscore))\n",
    "\n",
    "#Recall\n",
    "recall = metrics.recall_score(y_test_10fold, predictions)\n",
    "print(\"Recall: \" + str(recall))\n",
    "\n",
    "#Precision\n",
    "precision = metrics.precision_score(y_test_10fold, predictions)\n",
    "print(\"Precision: \" + str(precision))\n",
    "\n",
    "#Specificity\n",
    "specificity = tn / (tn + fp)\n",
    "print(\"Specificity: \" + str(specificity))\n",
    "\n",
    "#FPR\n",
    "fpr = fp / (fp + tn)\n",
    "print(\"False positive rate: \" + str(fpr))\n",
    "\n",
    "#Accuracy\n",
    "accuracy = metrics.accuracy_score(y_test_10fold, predictions)\n",
    "print(\"Accuracy: %.2f%%\" % (accuracy * 100.0))\n",
    "\n",
    "#auc\n",
    "auc = metrics.roc_auc_score(y_test_10fold, predictions)\n",
    "print(\"auc: %.2f%%\" % (auc * 100.0))\n",
    "\n",
    "d = {'gmean' : [gmean], 'fscore' : [fscore], 'recall' : [recall], 'precision' : [precision], 'specificity' : [specificity], 'fpr' : [fpr], 'accuracy' : [accuracy], 'roc_auc' : [auc]}\n",
    "df = pd.DataFrame(data=d)\n",
    "\n",
    "df.to_csv (path + \"/output/NB_metrics_10fold.csv\", index = False, header=True)"
   ]
  },
  {
   "cell_type": "code",
   "execution_count": null,
   "id": "715898a7",
   "metadata": {},
   "outputs": [],
   "source": []
  }
 ],
 "metadata": {
  "kernelspec": {
   "display_name": "Python 3",
   "language": "python",
   "name": "python3"
  },
  "language_info": {
   "codemirror_mode": {
    "name": "ipython",
    "version": 3
   },
   "file_extension": ".py",
   "mimetype": "text/x-python",
   "name": "python",
   "nbconvert_exporter": "python",
   "pygments_lexer": "ipython3",
   "version": "3.8.8"
  }
 },
 "nbformat": 4,
 "nbformat_minor": 5
}
