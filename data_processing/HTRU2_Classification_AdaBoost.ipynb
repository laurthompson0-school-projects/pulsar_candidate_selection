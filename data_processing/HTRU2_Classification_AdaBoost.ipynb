{
 "cells": [
  {
   "cell_type": "markdown",
   "id": "f2ddb989",
   "metadata": {},
   "source": [
    "### AdaBoost Binary Classification on HTRU2 Pulsar Data"
   ]
  },
  {
   "cell_type": "code",
   "execution_count": 1,
   "id": "eb6b9a60",
   "metadata": {},
   "outputs": [],
   "source": [
    "#Import all the things\n",
    "\n",
    "import numpy as np\n",
    "import os\n",
    "import warnings\n",
    "warnings.filterwarnings('ignore')\n",
    "from timeit import default_timer as timer\n",
    "\n",
    "from sklearn.ensemble import AdaBoostClassifier\n",
    "from sklearn import metrics, model_selection, preprocessing\n",
    "from sklearn.metrics import plot_confusion_matrix\n",
    "from sklearn.decomposition import PCA\n",
    "import matplotlib.pyplot as plt\n",
    "%matplotlib inline\n",
    "import pandas as pd\n",
    "from itertools import cycle, islice\n",
    "\n",
    "import seaborn as sns\n",
    "import plotly as py\n",
    "import plotly.express as px\n",
    "import plotly.graph_objs as go\n",
    "from plotly.offline import download_plotlyjs, init_notebook_mode, plot, iplot\n",
    "import joblib\n",
    "import pickle\n",
    "import pandas\n",
    "\n",
    "import imblearn"
   ]
  },
  {
   "cell_type": "code",
   "execution_count": 2,
   "id": "3769a804",
   "metadata": {
    "scrolled": true
   },
   "outputs": [],
   "source": [
    "#Read in data \n",
    "\n",
    "path = \"../data\"\n",
    "\n",
    "pulsar_data = pd.read_csv(path + \"/input/HTRU2/HTRU_2.csv\", \n",
    "                          low_memory=False, index_col=False, header=0, \n",
    "                          names=[\"mean_IP\", \"standDev_IP\", \"excessKurt_IP\", \"skewness_IP\", \n",
    "                                 \"mean_DMSNR\", \"standDev_DMSNR\", \"excessKurt_DMSNR\", \"skewness_DMSNR\", \"pulsar\"])\n",
    "#print(pulsar_data.head())"
   ]
  },
  {
   "cell_type": "markdown",
   "id": "ed687061",
   "metadata": {},
   "source": [
    "### Generate Training/Test Data - Paper Splits, 3-fold, 5-fold, 10-fold Cross Validation"
   ]
  },
  {
   "cell_type": "code",
   "execution_count": 3,
   "id": "f9d8cdf7",
   "metadata": {},
   "outputs": [],
   "source": [
    "#GENERATE TRAINING/TEST DATA ACCORDING TO SPLITS IN PAPER\n",
    "\n",
    "#Get data frame of just pulsar and just noise\n",
    "confirmed_pulsar = pulsar_data[pulsar_data['pulsar'] == 1]\n",
    "confirmed_noise = pulsar_data[pulsar_data['pulsar'] == 0]\n",
    "\n",
    "#Split data into training sets based on splits in paper\n",
    "positive_train_paper_split = confirmed_pulsar.iloc[:200]\n",
    "negative_train_paper_split = confirmed_noise.iloc[:200]\n",
    "positive_test_paper_split = confirmed_pulsar.iloc[200:]\n",
    "negative_test_paper_split = confirmed_noise.iloc[200:]\n",
    "\n",
    "#Merge positive and negative splits\n",
    "train_paper_split = pd.concat([positive_train_paper_split, negative_train_paper_split],\n",
    "                               ignore_index=True, sort=False)\n",
    "test_paper_split = pd.concat([positive_test_paper_split, negative_test_paper_split],\n",
    "                               ignore_index=True, sort=False)\n",
    "#???\n",
    "train_paper_split = train_paper_split.sample(frac=1).reset_index(drop=True)\n",
    "test_paper_split = test_paper_split.sample(frac=1).reset_index(drop=True)\n",
    "\n",
    "#Separate data from labels\n",
    "X_train_paper_split = train_paper_split.iloc[:, :8]\n",
    "X_test_paper_split = test_paper_split.iloc[:, :8]\n",
    "y_train_paper_split = train_paper_split.iloc[:, 8]\n",
    "y_test_paper_split = test_paper_split.iloc[:, 8]\n",
    "\n",
    "#Display training/testing sets\n",
    "#print(X_train_paper_split.shape)\n",
    "#print(X_train_paper_split.head())\n",
    "#print(X_test_paper_split.shape)\n",
    "#print(X_test_paper_split.head())\n",
    "#print(y_train_paper_split.shape)\n",
    "#print(y_train_paper_split.head())\n",
    "#print(y_test_paper_split.shape)\n",
    "#print(y_test_paper_split.head())"
   ]
  },
  {
   "cell_type": "code",
   "execution_count": 4,
   "id": "309032a3",
   "metadata": {},
   "outputs": [],
   "source": [
    "#GENERATE TEST/TRAINING DATA USING SPLITS FROM k-fold CROSS VALIDATION\n",
    "\n",
    "#Separate data from labesl\n",
    "X, y = pulsar_data.iloc[:, :8], pulsar_data.iloc[:, 8]\n",
    "\n",
    "#print(X.head())\n",
    "#print(y.head())\n",
    "\n",
    "#Split data for 3-fold cross validation\n",
    "X_train_3fold, X_test_3fold, y_train_3fold, y_test_3fold = model_selection.train_test_split(X, y, test_size=0.33, \n",
    "                                                                            random_state=42, stratify=y)\n",
    "#Split data for 5-fold cross validation\n",
    "X_train_5fold, X_test_5fold, y_train_5fold, y_test_5fold = model_selection.train_test_split(X, y, test_size=0.2, \n",
    "                                                                            random_state=42, stratify=y)\n",
    "\n",
    "#Split data for 10-fold cross validation\n",
    "X_train_10fold, X_test_10fold, y_train_10fold, y_test_10fold = model_selection.train_test_split(X, y, test_size=0.1, \n",
    "                                                                            random_state=42, stratify=y)"
   ]
  },
  {
   "cell_type": "markdown",
   "id": "69b9c854",
   "metadata": {},
   "source": [
    "### Paper Split"
   ]
  },
  {
   "cell_type": "code",
   "execution_count": 5,
   "id": "eeb50b27",
   "metadata": {},
   "outputs": [
    {
     "name": "stdout",
     "output_type": "stream",
     "text": [
      "Fitting 2 folds for each of 10 candidates, totalling 20 fits\n",
      "{'learning_rate': 0.01, 'n_estimators': 100}\n",
      "AdaBoostClassifier(learning_rate=0.01, n_estimators=100)\n"
     ]
    }
   ],
   "source": [
    "#USE GRIDSEARCH TO GENERATE BEST HYPERPARAMS FOR MODEL\n",
    "#Using splits from paper\n",
    "\n",
    "#Specify Hyperparameters - Gaussian NB only has var_smoothing and priors (which is not useful in this case)\n",
    "params = {'n_estimators': [100, 200],\n",
    "         'learning_rate': [.001, .01, .1, .2, .5]}\n",
    "\n",
    "#Get model for data splits\n",
    "skf =  model_selection.StratifiedKFold(n_splits=2, shuffle = True, random_state = 1001)\n",
    "\n",
    "abc = AdaBoostClassifier()\n",
    "\n",
    "#Determine best hyperparameters given split and classifier method\n",
    "grid =  model_selection.GridSearchCV(estimator=abc, param_grid=params, scoring='f1', n_jobs=-1, cv=skf.split(X_train_paper_split, y_train_paper_split), verbose=3)\n",
    "grid.fit(X_train_paper_split, y_train_paper_split)\n",
    "\n",
    "#Print best hyper parameter and model results\n",
    "print(grid.best_params_)\n",
    "print(grid.best_estimator_)"
   ]
  },
  {
   "cell_type": "code",
   "execution_count": 6,
   "id": "1bda548e",
   "metadata": {},
   "outputs": [],
   "source": [
    "#GENERATE/TRAIN MODEL USING BEST HYPER PARAMETERS\n",
    "#For splits based on paper\n",
    "\n",
    "abc = AdaBoostClassifier(n_estimators = grid.best_params_.get('n_estimators'), learning_rate = grid.best_params_.get('learning_rate'))\n",
    "\n",
    "startTrain = timer()\n",
    "model = abc.fit(X_train_paper_split, y_train_paper_split)\n",
    "endTrain = timer()\n",
    "\n",
    "#print(endTrain -  startTrain)"
   ]
  },
  {
   "cell_type": "code",
   "execution_count": 7,
   "id": "abc04e92",
   "metadata": {},
   "outputs": [
    {
     "name": "stdout",
     "output_type": "stream",
     "text": [
      "Accuracy: 95.74%\n",
      "auc: 93.95%\n",
      "Adaboost Confusion matrix: Paper Split\n",
      "[[15431   627]\n",
      " [  118  1321]]\n"
     ]
    },
    {
     "data": {
      "image/png": "[encoded data removed]",
      "text/plain": [
       "<Figure size 720x720 with 2 Axes>"
      ]
     },
     "metadata": {
      "needs_background": "light"
     },
     "output_type": "display_data"
    }
   ],
   "source": [
    "#PRINT ANALYSIS OF RESULTS\n",
    "#Using splits from paper\n",
    "\n",
    "y_pred = model.predict(X_test_paper_split)\n",
    "predictions = [round(value) for value in y_pred]\n",
    "\n",
    "#Accuracy\n",
    "accuracy = metrics.accuracy_score(y_test_paper_split, predictions)\n",
    "print(\"Accuracy: %.2f%%\" % (accuracy * 100.0))\n",
    "\n",
    "#auc\n",
    "auc = metrics.roc_auc_score(y_test_paper_split, predictions)\n",
    "print(\"auc: %.2f%%\" % (auc * 100.0))\n",
    "\n",
    "plt.rcParams['figure.figsize'] = [10, 10]\n",
    "\n",
    "#Confusion Matrix\n",
    "disp = plot_confusion_matrix(model, X_test_paper_split, y_test_paper_split,\n",
    "                                 cmap=plt.cm.Blues)\n",
    "tn, fp, fn, tp = metrics.confusion_matrix(y_test_paper_split, predictions).ravel()\n",
    "\n",
    "title = \"Adaboost Confusion matrix: Paper Split\"\n",
    "disp.ax_.set_title(title)\n",
    "\n",
    "print(title)\n",
    "print(disp.confusion_matrix)\n",
    "\n",
    "plt.savefig(path + \"/output/AdaBoost_PaperSplit_Confusion.png\", bbox_inches='tight')\n",
    "plt.show()"
   ]
  },
  {
   "cell_type": "code",
   "execution_count": 8,
   "id": "2985017f",
   "metadata": {},
   "outputs": [
    {
     "name": "stdout",
     "output_type": "stream",
     "text": [
      "Geometric mean: 0.9392307887852628\n",
      "F-score: 0.7800413345143193\n",
      "Recall: 0.9179986101459346\n",
      "Precision: 0.6781314168377823\n",
      "Specificity: 0.9609540415992028\n",
      "False positive rate: 0.03904595840079711\n",
      "Accuracy: 95.74%\n",
      "auc: 93.95%\n"
     ]
    }
   ],
   "source": [
    "#G-Mean - ??\n",
    "gmean = imblearn.metrics.geometric_mean_score(y_test_paper_split, predictions)\n",
    "print(\"Geometric mean: \" + str(gmean))\n",
    "\n",
    "#F-score\n",
    "fscore = metrics.f1_score(y_test_paper_split, predictions)\n",
    "print(\"F-score: \" + str(fscore))\n",
    "\n",
    "#Recall\n",
    "recall = metrics.recall_score(y_test_paper_split, predictions)\n",
    "print(\"Recall: \" + str(recall))\n",
    "\n",
    "#Precision\n",
    "precision = metrics.precision_score(y_test_paper_split, predictions)\n",
    "print(\"Precision: \" + str(precision))\n",
    "\n",
    "#Specificity\n",
    "specificity = tn / (tn + fp)\n",
    "print(\"Specificity: \" + str(specificity))\n",
    "\n",
    "#FPR\n",
    "fpr = fp / (fp + tn)\n",
    "print(\"False positive rate: \" + str(fpr))\n",
    "\n",
    "#Accuracy\n",
    "accuracy = metrics.accuracy_score(y_test_paper_split, predictions)\n",
    "print(\"Accuracy: %.2f%%\" % (accuracy * 100.0))\n",
    "\n",
    "#auc\n",
    "auc = metrics.roc_auc_score(y_test_paper_split, predictions)\n",
    "print(\"auc: %.2f%%\" % (auc * 100.0))\n",
    "\n",
    "d = {'gmean' : [gmean], 'fscore' : [fscore], 'recall' : [recall], 'precision' : [precision], 'specificity' : [specificity], 'fpr' : [fpr], 'accuracy' : [accuracy], 'roc_auc' : [auc]}\n",
    "df = pd.DataFrame(data=d)\n",
    "\n",
    "df.to_csv (path + '/output/AdaBoost_metrics_papersplit.csv', index = False, header=True)"
   ]
  },
  {
   "cell_type": "markdown",
   "id": "df7cadc5",
   "metadata": {},
   "source": [
    "### 3-fold Cross Validation"
   ]
  },
  {
   "cell_type": "code",
   "execution_count": 9,
   "id": "f767f4b8",
   "metadata": {
    "scrolled": false
   },
   "outputs": [
    {
     "name": "stdout",
     "output_type": "stream",
     "text": [
      "Fitting 3 folds for each of 10 candidates, totalling 30 fits\n",
      "{'learning_rate': 0.2, 'n_estimators': 200}\n",
      "AdaBoostClassifier(learning_rate=0.2, n_estimators=200)\n"
     ]
    }
   ],
   "source": [
    "#GENERATE NAIVE BAYES CLASSIFICATION MODEL AND TUNE HYPERPARAMETERS USING GRIDSEARCHCV\n",
    "#FOR 3-fold\n",
    "\n",
    "#Specify Hyperparameters - Gaussian NB only has var_smoothing and priors (which is not useful in this case)\n",
    "params = {'n_estimators': [100, 200],\n",
    "         'learning_rate': [.001, .01, .1, .2, .5]}\n",
    "\n",
    "#Generate k-fold cross validation model\n",
    "skf =  model_selection.StratifiedKFold(n_splits=3, shuffle = True, random_state = 1001)\n",
    "\n",
    "#Generate classification model\n",
    "abc = AdaBoostClassifier()\n",
    "\n",
    "#Generate gridsearch model to tune hyperparameters\n",
    "grid =  model_selection.GridSearchCV(estimator=abc, param_grid=params, scoring='f1', n_jobs=-1, cv=skf.split(X_train_3fold, y_train_3fold), verbose=3)\n",
    "grid.fit(X_train_3fold, y_train_3fold) #Fit the model using training data\n",
    "\n",
    "print(grid.best_params_)\n",
    "print(grid.best_estimator_)"
   ]
  },
  {
   "cell_type": "code",
   "execution_count": 10,
   "id": "cc158013",
   "metadata": {},
   "outputs": [],
   "source": [
    "#GENERATE NEW MODEL BASED ON BEST HYPERPARAMS FOUND BY GRIDSEARCH (THIS IS THE BEST MODEL)\n",
    "#Using k-fold cross validation splits\n",
    "\n",
    "abc = AdaBoostClassifier(n_estimators = grid.best_params_.get('n_estimators'), learning_rate = grid.best_params_.get('learning_rate'))\n",
    "\n",
    "startTrain = timer()\n",
    "model = abc.fit(X_train_3fold, y_train_3fold)\n",
    "endTrain = timer()\n",
    "\n",
    "#print(endTrain -  startTrain) #Show time taken to train model"
   ]
  },
  {
   "cell_type": "code",
   "execution_count": 11,
   "id": "368c6bc1",
   "metadata": {},
   "outputs": [
    {
     "name": "stdout",
     "output_type": "stream",
     "text": [
      "Accuracy: 97.87%\n",
      "auc: 91.51%\n",
      "Adaboost Confusion matrix: 3 fold CV\n",
      "[[5328   38]\n",
      " [  88  453]]\n"
     ]
    },
    {
     "data": {
      "image/png": "[encoded data removed]",
      "text/plain": [
       "<Figure size 720x720 with 2 Axes>"
      ]
     },
     "metadata": {
      "needs_background": "light"
     },
     "output_type": "display_data"
    }
   ],
   "source": [
    "#DISPLAY QUALITY OF RESULTS\n",
    "#Using k-fold cross validation splits\n",
    "\n",
    "#Get models results\n",
    "y_pred = model.predict(X_test_3fold)\n",
    "predictions = [round(value) for value in y_pred]\n",
    "\n",
    "#Print accuracy - EQUATION?\n",
    "accuracy = metrics.accuracy_score(y_test_3fold, predictions)\n",
    "print(\"Accuracy: %.2f%%\" % (accuracy * 100.0))\n",
    "\n",
    "#auc\n",
    "auc = metrics.roc_auc_score(y_test_3fold, predictions)\n",
    "print(\"auc: %.2f%%\" % (auc * 100.0))\n",
    "\n",
    "plt.rcParams['figure.figsize'] = [10, 10]\n",
    "\n",
    "#Confusion Matrix\n",
    "disp = plot_confusion_matrix(model, X_test_3fold, y_test_3fold,\n",
    "                                 cmap=plt.cm.Blues)\n",
    "tn, fp, fn, tp = metrics.confusion_matrix(y_test_3fold, predictions).ravel()\n",
    "\n",
    "title = \"Adaboost Confusion matrix: 3 fold CV\"\n",
    "disp.ax_.set_title(title)\n",
    "\n",
    "print(title)\n",
    "print(disp.confusion_matrix)\n",
    "\n",
    "plt.savefig(path + '/output/AdaBoost_3fold_Confusion.png', bbox_inches='tight')\n",
    "plt.show()"
   ]
  },
  {
   "cell_type": "code",
   "execution_count": 12,
   "id": "77de5d18",
   "metadata": {},
   "outputs": [
    {
     "name": "stdout",
     "output_type": "stream",
     "text": [
      "Geometric mean: 0.9118160707428173\n",
      "F-score: 0.877906976744186\n",
      "Recall: 0.8373382624768947\n",
      "Precision: 0.9226069246435845\n",
      "Specificity: 0.9929183749534104\n",
      "False positive rate: 0.007081625046589639\n",
      "Accuracy: 97.87%\n",
      "auc: 91.51%\n"
     ]
    }
   ],
   "source": [
    "#G-Mean\n",
    "gmean = imblearn.metrics.geometric_mean_score(y_test_3fold, predictions)\n",
    "print(\"Geometric mean: \" + str(gmean))\n",
    "\n",
    "#F-score\n",
    "fscore = metrics.f1_score(y_test_3fold, predictions)\n",
    "print(\"F-score: \" + str(fscore))\n",
    "\n",
    "#Recall\n",
    "recall = metrics.recall_score(y_test_3fold, predictions)\n",
    "print(\"Recall: \" + str(recall))\n",
    "\n",
    "#Precision\n",
    "precision = metrics.precision_score(y_test_3fold, predictions)\n",
    "print(\"Precision: \" + str(precision))\n",
    "\n",
    "#Specificity\n",
    "specificity = tn / (tn + fp)\n",
    "print(\"Specificity: \" + str(specificity))\n",
    "\n",
    "#FPR\n",
    "fpr = fp / (fp + tn)\n",
    "print(\"False positive rate: \" + str(fpr))\n",
    "\n",
    "#Accuracy\n",
    "accuracy = metrics.accuracy_score(y_test_3fold, predictions)\n",
    "print(\"Accuracy: %.2f%%\" % (accuracy * 100.0))\n",
    "\n",
    "#auc\n",
    "auc = metrics.roc_auc_score(y_test_3fold, predictions)\n",
    "print(\"auc: %.2f%%\" % (auc * 100.0))\n",
    "\n",
    "d = {'gmean' : [gmean], 'fscore' : [fscore], 'recall' : [recall], 'precision' : [precision], 'specificity' : [specificity], 'fpr' : [fpr], 'accuracy' : [accuracy], 'roc_auc' : [auc]}\n",
    "df = pd.DataFrame(data=d)\n",
    "\n",
    "df.to_csv (path + '/output/AdaBoost_metrics_3fold.csv', index = False, header=True)"
   ]
  },
  {
   "cell_type": "markdown",
   "id": "9f8703e7",
   "metadata": {},
   "source": [
    "### 5-Fold Cross Validation"
   ]
  },
  {
   "cell_type": "code",
   "execution_count": 13,
   "id": "a43dc377",
   "metadata": {},
   "outputs": [
    {
     "name": "stdout",
     "output_type": "stream",
     "text": [
      "Fitting 5 folds for each of 10 candidates, totalling 50 fits\n",
      "{'learning_rate': 0.2, 'n_estimators': 200}\n",
      "AdaBoostClassifier(learning_rate=0.2, n_estimators=200)\n"
     ]
    }
   ],
   "source": [
    "#GENERATE NAIVE BAYES CLASSIFICATION MODEL AND TUNE HYPERPARAMETERS USING GRIDSEARCHCV\n",
    "#FOR 5-fold\n",
    "\n",
    "#Specify Hyperparameters - Gaussian NB only has var_smoothing and priors (which is not useful in this case)\n",
    "params = {'n_estimators': [100, 200],\n",
    "         'learning_rate': [.001, .01, .1, .2, .5]}\n",
    "\n",
    "#Generate 5-fold cross validation model\n",
    "skf =  model_selection.StratifiedKFold(n_splits=5, shuffle = True, random_state = 1001)\n",
    "\n",
    "#Generate classification model\n",
    "abc = AdaBoostClassifier()\n",
    "\n",
    "#Generate gridsearch model to tune hyperparameters\n",
    "grid =  model_selection.GridSearchCV(estimator=abc, param_grid=params, scoring='f1', n_jobs=-1, cv=skf.split(X_train_5fold, y_train_5fold), verbose=3)\n",
    "grid.fit(X_train_5fold, y_train_5fold) #Fit the model using training data\n",
    "\n",
    "print(grid.best_params_)\n",
    "print(grid.best_estimator_)"
   ]
  },
  {
   "cell_type": "code",
   "execution_count": 14,
   "id": "a9960c71",
   "metadata": {},
   "outputs": [],
   "source": [
    "#GENERATE NEW MODEL BASED ON BEST HYPERPARAMS FOUND BY GRIDSEARCH (THIS IS THE BEST MODEL)\n",
    "#Using k-fold cross validation splits\n",
    "\n",
    "abc = AdaBoostClassifier(n_estimators = grid.best_params_.get('n_estimators'), learning_rate = grid.best_params_.get('learning_rate'))\n",
    "\n",
    "startTrain = timer()\n",
    "model = abc.fit(X_train_5fold, y_train_5fold)\n",
    "endTrain = timer()\n",
    "\n",
    "#print(endTrain -  startTrain) #Show time taken to train model"
   ]
  },
  {
   "cell_type": "code",
   "execution_count": 15,
   "id": "a039e2f3",
   "metadata": {},
   "outputs": [
    {
     "name": "stdout",
     "output_type": "stream",
     "text": [
      "Accuracy: 97.82%\n",
      "auc: 91.67%\n",
      "Adaboost Confusion matrix: 5 fold CV\n",
      "[[3226   26]\n",
      " [  52  276]]\n"
     ]
    },
    {
     "data": {
      "image/png": "[encoded data removed]",
      "text/plain": [
       "<Figure size 720x720 with 2 Axes>"
      ]
     },
     "metadata": {
      "needs_background": "light"
     },
     "output_type": "display_data"
    }
   ],
   "source": [
    "#DISPLAY QUALITY OF RESULTS\n",
    "#Using k-fold cross validation splits\n",
    "\n",
    "#Get models results\n",
    "y_pred = model.predict(X_test_5fold)\n",
    "predictions = [round(value) for value in y_pred]\n",
    "\n",
    "#Print accuracy - EQUATION?\n",
    "accuracy = metrics.accuracy_score(y_test_5fold, predictions)\n",
    "print(\"Accuracy: %.2f%%\" % (accuracy * 100.0))\n",
    "\n",
    "#auc\n",
    "auc = metrics.roc_auc_score(y_test_5fold, predictions)\n",
    "print(\"auc: %.2f%%\" % (auc * 100.0))\n",
    "\n",
    "plt.rcParams['figure.figsize'] = [10, 10]\n",
    "\n",
    "#Confusion Matrix\n",
    "disp = plot_confusion_matrix(model, X_test_5fold, y_test_5fold,\n",
    "                                 cmap=plt.cm.Blues)\n",
    "tn, fp, fn, tp = metrics.confusion_matrix(y_test_5fold, predictions).ravel()\n",
    "\n",
    "title = \"Adaboost Confusion matrix: 5 fold CV\"\n",
    "disp.ax_.set_title(title)\n",
    "\n",
    "print(title)\n",
    "print(disp.confusion_matrix)\n",
    "\n",
    "plt.savefig(path + '/output/AdaBoost_5fold_Confusion.png', bbox_inches='tight')\n",
    "plt.show()"
   ]
  },
  {
   "cell_type": "code",
   "execution_count": 16,
   "id": "1e279dc7",
   "metadata": {},
   "outputs": [
    {
     "name": "stdout",
     "output_type": "stream",
     "text": [
      "Geometric mean: 0.9136387947971963\n",
      "F-score: 0.8761904761904761\n",
      "Recall: 0.8414634146341463\n",
      "Precision: 0.9139072847682119\n",
      "Specificity: 0.9920049200492005\n",
      "False positive rate: 0.007995079950799507\n",
      "Accuracy: 97.82%\n",
      "auc: 91.67%\n"
     ]
    }
   ],
   "source": [
    "#G-Mean \n",
    "gmean = imblearn.metrics.geometric_mean_score(y_test_5fold, predictions)\n",
    "print(\"Geometric mean: \" + str(gmean))\n",
    "\n",
    "#F-score\n",
    "fscore = metrics.f1_score(y_test_5fold, predictions)\n",
    "print(\"F-score: \" + str(fscore))\n",
    "\n",
    "#Recall\n",
    "recall = metrics.recall_score(y_test_5fold, predictions)\n",
    "print(\"Recall: \" + str(recall))\n",
    "\n",
    "#Precision\n",
    "precision = metrics.precision_score(y_test_5fold, predictions)\n",
    "print(\"Precision: \" + str(precision))\n",
    "\n",
    "#Specificity\n",
    "specificity = tn / (tn + fp)\n",
    "print(\"Specificity: \" + str(specificity))\n",
    "\n",
    "#FPR\n",
    "fpr = fp / (fp + tn)\n",
    "print(\"False positive rate: \" + str(fpr))\n",
    "\n",
    "#Accuracy\n",
    "accuracy = metrics.accuracy_score(y_test_5fold, predictions)\n",
    "print(\"Accuracy: %.2f%%\" % (accuracy * 100.0))\n",
    "\n",
    "#auc\n",
    "auc = metrics.roc_auc_score(y_test_5fold, predictions)\n",
    "print(\"auc: %.2f%%\" % (auc * 100.0))\n",
    "\n",
    "d = {'gmean' : [gmean], 'fscore' : [fscore], 'recall' : [recall], 'precision' : [precision], 'specificity' : [specificity], 'fpr' : [fpr], 'accuracy' : [accuracy], 'roc_auc' : [auc]}\n",
    "df = pd.DataFrame(data=d)\n",
    "\n",
    "df.to_csv (path + '/output/AdaBoost_metrics_5fold.csv', index = False, header=True)"
   ]
  },
  {
   "cell_type": "markdown",
   "id": "e3383eef",
   "metadata": {},
   "source": [
    "### 10-Fold Cross Validation"
   ]
  },
  {
   "cell_type": "code",
   "execution_count": 17,
   "id": "4dee9676",
   "metadata": {},
   "outputs": [
    {
     "name": "stdout",
     "output_type": "stream",
     "text": [
      "Fitting 10 folds for each of 10 candidates, totalling 100 fits\n",
      "{'learning_rate': 0.2, 'n_estimators': 200}\n",
      "AdaBoostClassifier(learning_rate=0.2, n_estimators=200)\n"
     ]
    }
   ],
   "source": [
    "#GENERATE NAIVE BAYES CLASSIFICATION MODEL AND TUNE HYPERPARAMETERS USING GRIDSEARCHCV\n",
    "#FOR 10-fold\n",
    "\n",
    "#Specify Hyperparameters - Gaussian NB only has var_smoothing and priors (which is not useful in this case)\n",
    "params = {'n_estimators': [100, 200],\n",
    "         'learning_rate': [.001, .01, .1, .2, .5]}\n",
    "\n",
    "#Generate 10-fold cross validation model\n",
    "skf =  model_selection.StratifiedKFold(n_splits=10, shuffle = True, random_state = 1001)\n",
    "\n",
    "#Generate classification model\n",
    "abc = AdaBoostClassifier()\n",
    "\n",
    "#Generate gridsearch model to tune hyperparameters\n",
    "grid =  model_selection.GridSearchCV(estimator=abc, param_grid=params, scoring='f1', n_jobs=-1, cv=skf.split(X_train_10fold, y_train_10fold), verbose=3)\n",
    "grid.fit(X_train_10fold, y_train_10fold) #Fit the model using training data\n",
    "\n",
    "print(grid.best_params_)\n",
    "print(grid.best_estimator_)"
   ]
  },
  {
   "cell_type": "code",
   "execution_count": 18,
   "id": "15d9dcf1",
   "metadata": {},
   "outputs": [],
   "source": [
    "#GENERATE NEW MODEL BASED ON BEST HYPERPARAMS FOUND BY GRIDSEARCH (THIS IS THE BEST MODEL)\n",
    "#Using 10-fold cross validation splits\n",
    "\n",
    "abc = AdaBoostClassifier(n_estimators = grid.best_params_.get('n_estimators'), learning_rate = grid.best_params_.get('learning_rate'))\n",
    "\n",
    "startTrain = timer()\n",
    "model = abc.fit(X_train_10fold, y_train_10fold)\n",
    "endTrain = timer()\n",
    "\n",
    "#print(endTrain -  startTrain) #Show time taken to train model"
   ]
  },
  {
   "cell_type": "code",
   "execution_count": 19,
   "id": "70fe945c",
   "metadata": {},
   "outputs": [
    {
     "name": "stdout",
     "output_type": "stream",
     "text": [
      "Accuracy: 97.49%\n",
      "auc: 90.67%\n",
      "Adaboost Confusion matrix: 10 fold CV\n",
      "[[1610   16]\n",
      " [  29  135]]\n"
     ]
    },
    {
     "data": {
      "image/png": "[encoded data removed]",
      "text/plain": [
       "<Figure size 720x720 with 2 Axes>"
      ]
     },
     "metadata": {
      "needs_background": "light"
     },
     "output_type": "display_data"
    }
   ],
   "source": [
    "#DISPLAY QUALITY OF RESULTS\n",
    "#Using 10-fold cross validation splits\n",
    "\n",
    "#Get models results\n",
    "y_pred = model.predict(X_test_10fold)\n",
    "predictions = [round(value) for value in y_pred]\n",
    "\n",
    "#Print accuracy - EQUATION?\n",
    "accuracy = metrics.accuracy_score(y_test_10fold, predictions)\n",
    "print(\"Accuracy: %.2f%%\" % (accuracy * 100.0))\n",
    "\n",
    "#auc\n",
    "auc = metrics.roc_auc_score(y_test_10fold, predictions)\n",
    "print(\"auc: %.2f%%\" % (auc * 100.0))\n",
    "\n",
    "plt.rcParams['figure.figsize'] = [10, 10]\n",
    "\n",
    "#Confusion Matrix\n",
    "disp = plot_confusion_matrix(model, X_test_10fold, y_test_10fold,\n",
    "                                 cmap=plt.cm.Blues)\n",
    "tn, fp, fn, tp = metrics.confusion_matrix(y_test_10fold, predictions).ravel()\n",
    "title = \"Adaboost Confusion matrix: 10 fold CV\"\n",
    "disp.ax_.set_title(title)\n",
    "\n",
    "print(title)\n",
    "print(disp.confusion_matrix)\n",
    "\n",
    "plt.savefig(path + '/output/AdaBoost_10fold_Confusion.png', bbox_inches='tight')\n",
    "plt.show()"
   ]
  },
  {
   "cell_type": "code",
   "execution_count": 20,
   "id": "aea45f16",
   "metadata": {},
   "outputs": [
    {
     "name": "stdout",
     "output_type": "stream",
     "text": [
      "Geometric mean: 0.9028126332227009\n",
      "F-score: 0.8571428571428571\n",
      "Recall: 0.823170731707317\n",
      "Precision: 0.8940397350993378\n",
      "Specificity: 0.990159901599016\n",
      "False positive rate: 0.00984009840098401\n",
      "Accuracy: 97.49%\n",
      "auc: 90.67%\n"
     ]
    }
   ],
   "source": [
    "#G-Mean\n",
    "gmean = imblearn.metrics.geometric_mean_score(y_test_10fold, predictions)\n",
    "print(\"Geometric mean: \" + str(gmean))\n",
    "\n",
    "#F-score\n",
    "fscore = metrics.f1_score(y_test_10fold, predictions)\n",
    "print(\"F-score: \" + str(fscore))\n",
    "\n",
    "#Recall\n",
    "recall = metrics.recall_score(y_test_10fold, predictions)\n",
    "print(\"Recall: \" + str(recall))\n",
    "\n",
    "#Precision\n",
    "precision = metrics.precision_score(y_test_10fold, predictions)\n",
    "print(\"Precision: \" + str(precision))\n",
    "\n",
    "#Specificity\n",
    "specificity = tn / (tn + fp)\n",
    "print(\"Specificity: \" + str(specificity))\n",
    "\n",
    "#FPR\n",
    "fpr = fp / (fp + tn)\n",
    "print(\"False positive rate: \" + str(fpr))\n",
    "\n",
    "#Accuracy\n",
    "accuracy = metrics.accuracy_score(y_test_10fold, predictions)\n",
    "print(\"Accuracy: %.2f%%\" % (accuracy * 100.0))\n",
    "\n",
    "#auc\n",
    "auc = metrics.roc_auc_score(y_test_10fold, predictions)\n",
    "print(\"auc: %.2f%%\" % (auc * 100.0))\n",
    "\n",
    "d = {'gmean' : [gmean], 'fscore' : [fscore], 'recall' : [recall], 'precision' : [precision], 'specificity' : [specificity], 'fpr' : [fpr], 'accuracy' : [accuracy], 'roc_auc' : [auc]}\n",
    "df = pd.DataFrame(data=d)\n",
    "\n",
    "df.to_csv (path + '/output/AdaBoost_metrics_10fold.csv', index = False, header=True)"
   ]
  },
  {
   "cell_type": "code",
   "execution_count": null,
   "id": "f48fe578",
   "metadata": {},
   "outputs": [],
   "source": []
  }
 ],
 "metadata": {
  "kernelspec": {
   "display_name": "Python [conda env:htru2-datamining] *",
   "language": "python",
   "name": "conda-env-htru2-datamining-py"
  },
  "language_info": {
   "codemirror_mode": {
    "name": "ipython",
    "version": 3
   },
   "file_extension": ".py",
   "mimetype": "text/x-python",
   "name": "python",
   "nbconvert_exporter": "python",
   "pygments_lexer": "ipython3",
   "version": "3.8.8"
  }
 },
 "nbformat": 4,
 "nbformat_minor": 5
}
