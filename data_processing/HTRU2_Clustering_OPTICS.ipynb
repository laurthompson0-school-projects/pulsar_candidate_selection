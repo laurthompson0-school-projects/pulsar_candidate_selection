{
 "cells": [
  {
   "cell_type": "code",
   "execution_count": 1,
   "metadata": {},
   "outputs": [],
   "source": [
    "import numpy as np\n",
    "import os\n",
    "\n",
    "from sklearn import metrics, cluster, preprocessing\n",
    "from sklearn.decomposition import PCA\n",
    "import matplotlib.pyplot as plt\n",
    "import pandas as pd\n",
    "from itertools import cycle, islice\n",
    "\n",
    "import seaborn as sns\n",
    "import plotly as py\n",
    "import plotly.express as px\n",
    "import plotly.graph_objs as go\n",
    "from plotly.offline import download_plotlyjs, init_notebook_mode, plot, iplot"
   ]
  },
  {
   "cell_type": "markdown",
   "metadata": {},
   "source": [
    "#### Normalization \n",
    "The following cell imports the dataset being clustered, converts the dataset from a data frame to a numpy array, and then normalizes the data using the RobustScalar provided by SciKit Learn."
   ]
  },
  {
   "cell_type": "code",
   "execution_count": 2,
   "metadata": {},
   "outputs": [],
   "source": [
    "path = \"../data\"\n",
    "\n",
    "pulsar_data = pd.read_csv(path + \"/input/HTRU2/HTRU_2.csv\", \n",
    "                          low_memory=False, index_col=False, usecols=[*range(0, 7)], header=0, \n",
    "                          names=[\"mean_IP\", \"standDev_IP\", \"excessKurt_IP\", \"skewness_IP\", \n",
    "                                 \"mean_DMSNR\", \"standDev_DMSNR\", \"excessKurt_DMSNR\", \"skewness_DMSNR\"])\n",
    "ground_truth = pd.read_csv(path + \"/input/HTRU2/HTRU_2.csv\", \n",
    "                           low_memory=False, index_col=False, usecols=[8], header=0, \n",
    "                           names=[\"pulsar\"])\n",
    "X = pulsar_data.to_numpy()\n",
    "\n",
    "X_tr = preprocessing.RobustScaler().fit_transform(X)\n",
    "X_ts = preprocessing.StandardScaler().fit_transform(X)\n",
    "X_tp = preprocessing.PowerTransformer().fit_transform(X)\n",
    "X_tq = preprocessing.QuantileTransformer(output_distribution='normal').fit_transform(X)\n",
    "\n",
    "\n",
    "#print(pulsar_data.head())\n",
    "#print(ground_truth.head())\n",
    "#print(ground_truth.tail())\n",
    "#print(X)\n",
    "#print(X_tr)"
   ]
  },
  {
   "cell_type": "markdown",
   "metadata": {},
   "source": [
    "#### Clustering\n",
    "This segment of code clusters the normalized data using optics and gets an array of labels for each instance that was clustered. A ground truth matrix of the same data is generated using the ground truth values from the original data.\n",
    "\n",
    "In this case, eps=1 and min_samples=100 were chosen values for clustering because they form one large cluster and the rest is labeled as noise. This turns out to be useful because most of the true pulsars are identified as noise while most of the instances clustered were proven to be radiowaves and thus nonpulsars."
   ]
  },
  {
   "cell_type": "code",
   "execution_count": 3,
   "metadata": {},
   "outputs": [
    {
     "name": "stdout",
     "output_type": "stream",
     "text": [
      "Clusters formed: [-1  0]\n"
     ]
    }
   ],
   "source": [
    "op_raw = cluster.OPTICS(eps=1, min_samples=100, cluster_method=\"dbscan\").fit(X)\n",
    "op_s = cluster.OPTICS(eps=1, min_samples=100, cluster_method=\"dbscan\").fit(X_ts)\n",
    "op_r = cluster.OPTICS(eps=1, min_samples=100, cluster_method=\"dbscan\").fit(X_tr)\n",
    "op_p = cluster.OPTICS(eps=1, min_samples=100, cluster_method=\"dbscan\").fit(X_tp)\n",
    "op_q = cluster.OPTICS(eps=1, min_samples=100, cluster_method=\"dbscan\").fit(X_tq)\n",
    "\n",
    "op = cluster.OPTICS(eps=1, min_samples=100, cluster_method=\"dbscan\").fit(X_tr)\n",
    "\n",
    "opclus = op.labels_\n",
    "gt = ground_truth.to_numpy().transpose()[0]\n",
    "print(\"Clusters formed: \" + str(np.unique(op.labels_)))"
   ]
  },
  {
   "cell_type": "markdown",
   "metadata": {},
   "source": [
    "#### Analysis\n",
    "In this cell, a comparison of the ground truth values for the pulsars was compared to the clustering results. In this case, the data demonstrated the following patterns:\n",
    "\n",
    "True Positive: Pulsars that were correctly identified as noise points by the clustering algorithm\n",
    "False Negative: Pulsars that were clustered as part of the large main cluster despite being pulsars\n",
    "False Positive: Nonpulsars/radio waves that were labeled as noise points and thus expected to be pulsars\n",
    "True Negative: Nonpulsars/radio waves that were clustered into the large single cluster (not outliers)"
   ]
  },
  {
   "cell_type": "code",
   "execution_count": 4,
   "metadata": {},
   "outputs": [
    {
     "name": "stdout",
     "output_type": "stream",
     "text": [
      "Total Pulsars: 1639\n",
      "Total Nonpulsars: 16258\n",
      "Pulsars identified as noise (TP): 1460\n",
      "Pulsars clustered (FN): 179\n",
      "Radio Waves identified as noise (FP): 1465\n",
      "Radio Waves clustered (TN): 14793\n",
      "\n",
      "Percent of pulsars correctly identified: 89.07870652837096\n",
      "\n",
      "\n",
      "Pulsars not identified as puslars (FN): [41, 253, 277, 302, 389, 408, 447, 462, 569, 595, 1029, 1286, 1463, 1493, 1496, 1500, 1527, 1592, 1603, 1617, 1624, 1736, 1786, 1888, 1908, 1930, 2091, 2218, 2229, 2251, 2304, 2306, 2424, 2619, 2624, 2672, 2797, 2855, 2942, 2976, 2987, 3029, 3108, 3113, 3134, 3135, 3140, 3141, 3193, 3217, 3228, 3253, 3258, 3329, 3336, 3423, 3424, 3427, 3431, 3433, 3435, 3497, 3549, 3573, 3574, 3600, 3608, 3620, 3639, 3651, 3662, 3740, 3793, 3833, 3933, 4020, 4023, 4042, 4067, 4083, 4182, 4204, 4230, 4448, 4597, 4663, 4687, 4789, 4797, 5005, 5046, 5113, 5122, 5132, 5141, 5142, 5155, 5285, 5589, 5600, 5628, 5646, 5647, 5796, 6123, 6659, 6712, 6920, 7007, 7192, 7228, 7276, 7286, 7313, 7485, 7497, 7520, 7542, 7570, 7659, 7664, 7674, 7781, 7827, 7840, 7890, 8083, 8207, 8234, 8238, 8437, 8472, 8752, 8859, 9265, 9338, 9351, 9405, 9587, 9595, 9907, 9914, 10100, 10140, 10166, 10496, 10552, 10599, 10952, 10996, 11023, 11049, 11055, 11074, 11096, 11144, 11192, 11248, 11334, 11486, 11506, 11534, 11594, 11601, 11665, 11681, 11687, 11688, 12512, 12729, 13052, 13562, 13580, 13726, 14451, 15430, 16100, 16660, 17323]\n"
     ]
    }
   ],
   "source": [
    "#Intialize counts to find totals and TP, TN, FP, FN values\n",
    "totalpulsars = 0\n",
    "pulsarsfound = 0\n",
    "totalnonpulsars = 0\n",
    "radionoise = 0\n",
    "radioclus = 0\n",
    "pulsar_notmatch = []\n",
    "\n",
    "numel = len(gt)\n",
    "for i in range(numel):\n",
    "    if gt[i] == 1: #Get pulsars\n",
    "        totalpulsars += 1\n",
    "        if opclus[i] == -1:\n",
    "            pulsarsfound += 1 #Count pulsars found to be noise points (expected)\n",
    "        elif opclus[i] == 0:\n",
    "            pulsar_notmatch.append(i) #Document pulsars that were not noise points (unexpected)\n",
    "    else:\n",
    "        totalnonpulsars += 1 #Get nonpulsars\n",
    "        if opclus[i] == -1: #Check for radiowaves identified as noise (FP)\n",
    "            radionoise += 1\n",
    "        elif opclus[i] == 0: #Check for true negative (Clustered radio waves)\n",
    "            radioclus += 1\n",
    "            \n",
    "\n",
    "print(\"Total Pulsars: \" + str(totalpulsars))\n",
    "print(\"Total Nonpulsars: \" + str(totalnonpulsars))\n",
    "print(\"Pulsars identified as noise (TP): \" + str(pulsarsfound))\n",
    "print(\"Pulsars clustered (FN): \" + str(len(pulsar_notmatch)))\n",
    "print(\"Radio Waves identified as noise (FP): \" + str(radionoise))\n",
    "print(\"Radio Waves clustered (TN): \" + str(radioclus))\n",
    "print(\"\\nPercent of pulsars correctly identified: \" + str(100*pulsarsfound/totalpulsars))\n",
    "print(\"\\n\\nPulsars not identified as puslars (FN): \" + str(pulsar_notmatch))"
   ]
  },
  {
   "cell_type": "markdown",
   "metadata": {},
   "source": [
    "#### Analysis\n",
    "This cell contains the data for the rand index, adjusted mutual info, and fowlkes-mallowscoring of the clustering."
   ]
  },
  {
   "cell_type": "code",
   "execution_count": 9,
   "metadata": {},
   "outputs": [
    {
     "name": "stdout",
     "output_type": "stream",
     "text": [
      "(array([0, 1]), array([16258,  1639]))\n",
      "(array([False,  True]), array([17363,   534]))\n",
      "(array([False,  True]), array([17718,   179]))\n",
      "(array([False,  True]), array([15673,  2224]))\n",
      "(array([False,  True]), array([15397,  2500]))\n",
      "OPTICS Clustering Metrics:\n",
      "z-score\\\n",
      "rand score =  0.8806149948237304\n",
      "adjusted mutual info score =  0.36302842491344656\n",
      "fowlkes-mallow =  0.928113823461954\n",
      "robust_scalar\\\n",
      "rand score =  0.8331488766157531\n",
      "adjusted mutual info score =  0.36902371295939224\n",
      "fowlkes-mallow =  0.8951643434856997\n",
      "power_scalar\\\n",
      "rand score =  0.7873156056227872\n",
      "adjusted mutual info score =  -0.00012153251345185578\n",
      "fowlkes-mallow =  0.880778556838967\n",
      "quantile_scalar\\\n",
      "rand score =  0.7671794587560583\n",
      "adjusted mutual info score =  -6.378850245011445e-05\n",
      "fowlkes-mallow =  0.8662476762308446\n"
     ]
    }
   ],
   "source": [
    "labels_truth = ground_truth.to_numpy().transpose()[0]\n",
    "print(np.unique(labels_truth, return_counts=True))\n",
    "print(np.unique(np.less(op_s.labels_, labels_truth), return_counts=True))\n",
    "print(np.unique(np.less(op_r.labels_, labels_truth), return_counts=True))\n",
    "print(np.unique(np.less(op_p.labels_, labels_truth), return_counts=True))\n",
    "print(np.unique(np.less(op_q.labels_, labels_truth), return_counts=True))\n",
    "op_s.labels_[op_s.labels_ == -1 ] = 1\n",
    "op_r.labels_[op_r.labels_ == -1 ] = 1\n",
    "op_p.labels_[op_s.labels_ == -1 ] = 1\n",
    "op_q.labels_[op_r.labels_ == -1 ] = 1\n",
    "print('OPTICS Clustering Metrics:')\n",
    "labels_pred = op_s.labels_\n",
    "print('z-score\\\\')\n",
    "rand_s = metrics.rand_score(labels_truth, labels_pred)\n",
    "print('rand score = ', rand_s)\n",
    "amis_s = metrics.adjusted_mutual_info_score(labels_truth, labels_pred) \n",
    "print('adjusted mutual info score = ', amis_s)\n",
    "fm_s = metrics.fowlkes_mallows_score(labels_truth, labels_pred)\n",
    "print('fowlkes-mallow = ', fm_s)\n",
    "labels_pred = op_r.labels_\n",
    "print('robust_scalar\\\\')\n",
    "rand_r = metrics.rand_score(labels_truth, labels_pred)\n",
    "print('rand score = ', rand_r)\n",
    "amis_r = metrics.adjusted_mutual_info_score(labels_truth, labels_pred)\n",
    "print('adjusted mutual info score = ', amis_r)\n",
    "fm_r = metrics.fowlkes_mallows_score(labels_truth, labels_pred)\n",
    "print('fowlkes-mallow = ', fm_r)\n",
    "labels_pred = op_p.labels_\n",
    "print('power_scalar\\\\')\n",
    "rand_p = metrics.rand_score(labels_truth, labels_pred)\n",
    "print('rand score = ', rand_p)\n",
    "amis_p = metrics.adjusted_mutual_info_score(labels_truth, labels_pred)\n",
    "print('adjusted mutual info score = ', amis_p)\n",
    "fm_p = metrics.fowlkes_mallows_score(labels_truth, labels_pred)\n",
    "print('fowlkes-mallow = ', fm_p)\n",
    "labels_pred = op_q.labels_\n",
    "print('quantile_scalar\\\\')\n",
    "rand_q = metrics.rand_score(labels_truth, labels_pred)\n",
    "print('rand score = ', rand_q)\n",
    "amis_q = metrics.adjusted_mutual_info_score(labels_truth, labels_pred)\n",
    "print('adjusted mutual info score = ', amis_q)\n",
    "fm_q = metrics.fowlkes_mallows_score(labels_truth, labels_pred)\n",
    "print('fowlkes-mallow = ', fm_q)"
   ]
  },
  {
   "cell_type": "code",
   "execution_count": 13,
   "metadata": {},
   "outputs": [
    {
     "data": {
      "text/html": [
       "<div>\n",
       "<style scoped>\n",
       "    .dataframe tbody tr th:only-of-type {\n",
       "        vertical-align: middle;\n",
       "    }\n",
       "\n",
       "    .dataframe tbody tr th {\n",
       "        vertical-align: top;\n",
       "    }\n",
       "\n",
       "    .dataframe thead th {\n",
       "        text-align: right;\n",
       "    }\n",
       "</style>\n",
       "<table border=\"1\" class=\"dataframe\">\n",
       "  <thead>\n",
       "    <tr style=\"text-align: right;\">\n",
       "      <th></th>\n",
       "      <th>Clustering Algorithm</th>\n",
       "      <th>Normalization Method</th>\n",
       "      <th>Rand Index</th>\n",
       "      <th>Fowlkes-Mallow</th>\n",
       "    </tr>\n",
       "  </thead>\n",
       "  <tbody>\n",
       "    <tr>\n",
       "      <th>0</th>\n",
       "      <td>OPTICS</td>\n",
       "      <td>z-score</td>\n",
       "      <td>0.880615</td>\n",
       "      <td>0.928114</td>\n",
       "    </tr>\n",
       "    <tr>\n",
       "      <th>1</th>\n",
       "      <td>OPTICS</td>\n",
       "      <td>robust scalar</td>\n",
       "      <td>0.833149</td>\n",
       "      <td>0.895164</td>\n",
       "    </tr>\n",
       "  </tbody>\n",
       "</table>\n",
       "</div>"
      ],
      "text/plain": [
       "  Clustering Algorithm Normalization Method  Rand Index  Fowlkes-Mallow\n",
       "0               OPTICS              z-score    0.880615        0.928114\n",
       "1               OPTICS        robust scalar    0.833149        0.895164"
      ]
     },
     "execution_count": 13,
     "metadata": {},
     "output_type": "execute_result"
    }
   ],
   "source": [
    "OPTICS_Metrics = pd.DataFrame([[\"OPTICS\", \"z-score\", rand_s, fm_s], [\"OPTICS\", \"robust scalar\", rand_r, fm_r]], columns=[\"Clustering Algorithm\", \"Normalization Method\", \n",
    "                                           \"Rand Index\", \"Fowlkes-Mallow\"])\n",
    "\n",
    "OPTICS_Metrics.to_csv(path + \"/output/optics_metrics.csv\")\n",
    "OPTICS_Metrics"
   ]
  },
  {
   "cell_type": "markdown",
   "metadata": {},
   "source": [
    "#### Identifying Pulsars:\n",
    "This code has been commented out, but it can be used to confirm that a majority of the pulsars found using the ground truth are noise points and a majority of the nonpulsars are part of the single large cluster."
   ]
  },
  {
   "cell_type": "code",
   "execution_count": null,
   "metadata": {
    "scrolled": true
   },
   "outputs": [],
   "source": [
    "\"\"\"\n",
    "numel = len(eq_matrix)\n",
    "count = 0\n",
    "zeros = 0\n",
    "pulsars = []\n",
    "clust1 = []\n",
    "clust2 = []\n",
    "for i in range(numel):\n",
    "    if eq_matrix[i] == True:\n",
    "        count += 1\n",
    "        if gt[i] == 0:\n",
    "            zeros += 1\n",
    "    if gt[i] == 1:\n",
    "        pulsars.append(i)\n",
    "    if opclus[i] == -1:\n",
    "        clust2.append(i)\n",
    "    elif opclus[i] == 1:\n",
    "        clust1.append(i)\n",
    "        \n",
    "print(count)\n",
    "print(count/gt.size)\n",
    "print(zeros/gt.size) #matching zeros (non-pulsars)\n",
    "print(pulsars)\n",
    "print(clust2)\n",
    "print(clust1)\n",
    "\"\"\""
   ]
  }
 ],
 "metadata": {
  "kernelspec": {
   "display_name": "Python 3",
   "language": "python",
   "name": "python3"
  },
  "language_info": {
   "codemirror_mode": {
    "name": "ipython",
    "version": 3
   },
   "file_extension": ".py",
   "mimetype": "text/x-python",
   "name": "python",
   "nbconvert_exporter": "python",
   "pygments_lexer": "ipython3",
   "version": "3.8.8"
  }
 },
 "nbformat": 4,
 "nbformat_minor": 4
}
